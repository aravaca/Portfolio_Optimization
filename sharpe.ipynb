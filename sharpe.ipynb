{
 "cells": [
  {
   "cell_type": "code",
   "execution_count": 1,
   "id": "129485fd",
   "metadata": {},
   "outputs": [],
   "source": [
    "import yfinance as yf\n",
    "import pandas as pd\n",
    "from pandas_datareader import data as pdr\n",
    "import datetime as dt\n",
    "import numpy as np\n",
    "import scipy as scipy\n",
    "from scipy.optimize import minimize\n",
    "import shelve\n",
    "\n",
    "BACKTEST = 3 # years, recommend at least 1~3 years\n",
    "LOWER_BOUND = 0 #increase for diversification \n",
    "UPPER_BOUND = 0.4\n",
    "NUM_OF_SIMULATIONS = 5000 #for monte carlo simulation\n",
    "SEED = 1700000 #a principal of 1,300,000KRW\n",
    "lambda_penalty = 0.5 #increase for robustness & diversificaiton, try 0.1 ~ 10"
   ]
  },
  {
   "cell_type": "code",
   "execution_count": 2,
   "id": "5379d2ed",
   "metadata": {},
   "outputs": [],
   "source": [
    "endDate = dt.datetime.today() + dt.timedelta(hours = 9) #한국 시간 기준\n",
    "startDate = endDate - dt.timedelta(days = 365 * BACKTEST)\n",
    "\n",
    "# tickers = ['379800.KS', '379810.KS', 'BTC-KRW', '047810.KS', '012450.KS']\n",
    "# tickers = ['379800.KS', '379810.KS', 'BTC-KRW', 'AAPL', 'MSFT', 'NVDA', 'GOOG', 'AMZN', 'META', 'BRK-B', 'AVGO', 'TSM', 'WMT', 'LLY', 'JPM']\n",
    "# tickers = ['379800.KS', '379810.KS', 'BTC-KRW', '047810.KS', '012450.KS', 'NVDA', 'AVGO', 'WMT', 'LLY', 'JPM']\n",
    "# tickers = ['379800.KS', '379810.KS', 'BTC-KRW', '047810.KS', '012450.KS', 'AAPL', 'MSFT', 'NVDA', 'GOOG', 'AMZN', 'META', 'BRK-B', 'AVGO', 'TSM', 'WMT', 'LLY', 'JPM']\n",
    "tickers = []\n",
    "\n",
    "with shelve.open(\"ticker_cache\") as cache:\n",
    "    for ticker, name in cache.items():\n",
    "        tickers.append(ticker)\n"
   ]
  },
  {
   "cell_type": "code",
   "execution_count": 3,
   "id": "fe80a5eb",
   "metadata": {},
   "outputs": [
    {
     "name": "stdout",
     "output_type": "stream",
     "text": [
      "KRW 1366.49\n"
     ]
    }
   ],
   "source": [
    "#stock = yf.Ticker(\"379800.KS\") #개별주 시장가 확인\n",
    "stock = yf.Ticker(\"KRW=X\") #환율\n",
    "price = stock.info['regularMarketPrice']\n",
    "print(stock.info['currency'] + \" \" + str(price))"
   ]
  },
  {
   "cell_type": "code",
   "execution_count": 4,
   "id": "006e8ad3",
   "metadata": {},
   "outputs": [
    {
     "name": "stdout",
     "output_type": "stream",
     "text": [
      "YF.download() has changed argument auto_adjust default to True\n"
     ]
    },
    {
     "name": "stderr",
     "output_type": "stream",
     "text": [
      "[*********************100%***********************]  1 of 1 completed"
     ]
    },
    {
     "name": "stderr",
     "output_type": "stream",
     "text": [
      "\n",
      "[*********************100%***********************]  1 of 1 completed\n",
      "[*********************100%***********************]  1 of 1 completed\n",
      "[*********************100%***********************]  1 of 1 completed\n",
      "[*********************100%***********************]  1 of 1 completed\n",
      "[*********************100%***********************]  1 of 1 completed\n",
      "[*********************100%***********************]  1 of 1 completed\n",
      "[*********************100%***********************]  1 of 1 completed\n",
      "[*********************100%***********************]  1 of 1 completed\n",
      "[*********************100%***********************]  1 of 1 completed\n",
      "[*********************100%***********************]  1 of 1 completed\n",
      "[*********************100%***********************]  1 of 1 completed\n",
      "[*********************100%***********************]  1 of 1 completed\n",
      "[*********************100%***********************]  1 of 1 completed\n",
      "[*********************100%***********************]  1 of 1 completed\n",
      "[*********************100%***********************]  1 of 1 completed\n",
      "[*********************100%***********************]  1 of 1 completed\n",
      "[*********************100%***********************]  1 of 1 completed\n",
      "[*********************100%***********************]  1 of 1 completed\n",
      "[*********************100%***********************]  1 of 1 completed\n",
      "[*********************100%***********************]  1 of 1 completed\n",
      "[*********************100%***********************]  1 of 1 completed\n",
      "[*********************100%***********************]  1 of 1 completed\n",
      "[*********************100%***********************]  1 of 1 completed\n",
      "[*********************100%***********************]  1 of 1 completed\n",
      "[*********************100%***********************]  1 of 1 completed\n",
      "[*********************100%***********************]  1 of 1 completed\n",
      "[*********************100%***********************]  1 of 1 completed\n",
      "[*********************100%***********************]  1 of 1 completed\n",
      "[*********************100%***********************]  1 of 1 completed\n",
      "[*********************100%***********************]  1 of 1 completed\n",
      "[*********************100%***********************]  1 of 1 completed\n",
      "[*********************100%***********************]  1 of 1 completed\n",
      "[*********************100%***********************]  1 of 1 completed\n",
      "[*********************100%***********************]  1 of 1 completed\n",
      "[*********************100%***********************]  1 of 1 completed\n",
      "[*********************100%***********************]  1 of 1 completed\n",
      "[*********************100%***********************]  1 of 1 completed\n",
      "[*********************100%***********************]  1 of 1 completed\n",
      "[*********************100%***********************]  1 of 1 completed\n",
      "[*********************100%***********************]  1 of 1 completed\n",
      "[*********************100%***********************]  1 of 1 completed\n",
      "[*********************100%***********************]  1 of 1 completed\n",
      "[*********************100%***********************]  1 of 1 completed\n",
      "[*********************100%***********************]  1 of 1 completed\n",
      "[*********************100%***********************]  1 of 1 completed\n",
      "[*********************100%***********************]  1 of 1 completed\n",
      "[*********************100%***********************]  1 of 1 completed\n",
      "[*********************100%***********************]  1 of 1 completed\n",
      "[*********************100%***********************]  1 of 1 completed\n",
      "[*********************100%***********************]  1 of 1 completed\n",
      "[*********************100%***********************]  1 of 1 completed\n",
      "[*********************100%***********************]  1 of 1 completed\n",
      "[*********************100%***********************]  1 of 1 completed\n",
      "[*********************100%***********************]  1 of 1 completed\n",
      "[*********************100%***********************]  1 of 1 completed\n",
      "[*********************100%***********************]  1 of 1 completed\n",
      "[*********************100%***********************]  1 of 1 completed\n",
      "[*********************100%***********************]  1 of 1 completed\n",
      "[*********************100%***********************]  1 of 1 completed\n",
      "[*********************100%***********************]  1 of 1 completed\n",
      "[*********************100%***********************]  1 of 1 completed\n",
      "[*********************100%***********************]  1 of 1 completed\n",
      "[*********************100%***********************]  1 of 1 completed\n",
      "[*********************100%***********************]  1 of 1 completed\n",
      "[*********************100%***********************]  1 of 1 completed\n",
      "[*********************100%***********************]  1 of 1 completed\n",
      "[*********************100%***********************]  1 of 1 completed\n",
      "[*********************100%***********************]  1 of 1 completed\n",
      "[*********************100%***********************]  1 of 1 completed\n",
      "[*********************100%***********************]  1 of 1 completed\n",
      "[*********************100%***********************]  1 of 1 completed\n",
      "[*********************100%***********************]  1 of 1 completed\n",
      "[*********************100%***********************]  1 of 1 completed"
     ]
    },
    {
     "name": "stdout",
     "output_type": "stream",
     "text": [
      "               007340.KS      271560.KS     005930.KS    005440.KS  \\\n",
      "Date                                                                 \n",
      "2022-06-07  12936.446289   90455.148438  61245.089844  4231.879395   \n",
      "2022-06-08  12936.446289   89113.656250  61058.078125  4317.118164   \n",
      "2022-06-09  12858.632812   89209.484375  60964.574219  4342.188477   \n",
      "2022-06-10  12177.767578   88251.265625  59655.515625  4287.034180   \n",
      "2022-06-13  11671.981445   87388.875000  58065.953125  4126.583496   \n",
      "...                  ...            ...           ...          ...   \n",
      "2025-05-28  22100.000000  111200.000000  55900.000000  7280.000000   \n",
      "2025-05-29  22300.000000  111600.000000  56100.000000  7380.000000   \n",
      "2025-05-30  21950.000000  110400.000000  56200.000000  7460.000000   \n",
      "2025-06-02  21700.000000  110800.000000  56800.000000  7390.000000   \n",
      "2025-06-04  22300.000000  111700.000000  57800.000000  8100.000000   \n",
      "\n",
      "               185750.KS     090435.KS      090430.KS     035900.KQ  \\\n",
      "Date                                                                  \n",
      "2022-06-07  76463.562500  62936.253906  156511.046875  54347.777344   \n",
      "2022-06-08  77224.820312  62657.367188  151620.062500  57689.234375   \n",
      "2022-06-09  76886.476562  61355.875000  153576.453125  58377.183594   \n",
      "2022-06-10  76040.648438  60891.058594  149663.671875  57394.398438   \n",
      "2022-06-13  74941.054688  58195.117188  146240.015625  55330.558594   \n",
      "...                  ...           ...            ...           ...   \n",
      "2025-05-28  83100.000000  40200.000000  135800.000000  74700.000000   \n",
      "2025-05-29  84000.000000  42450.000000  134300.000000  75800.000000   \n",
      "2025-05-30  86600.000000  44100.000000  133700.000000  74700.000000   \n",
      "2025-06-02  85500.000000  44400.000000  134300.000000  77000.000000   \n",
      "2025-06-04  85100.000000  45000.000000  134100.000000  76800.000000   \n",
      "\n",
      "                086280.KS      009540.KS  ...     000270.KS      079550.KS  \\\n",
      "Date                                      ...                                \n",
      "2022-06-07   93325.921875   90282.070312  ...  70098.523438   78762.500000   \n",
      "2022-06-08   89928.125000   91356.859375  ...  69085.054688   78379.226562   \n",
      "2022-06-09   91513.765625   91161.437500  ...  69422.875000   81062.132812   \n",
      "2022-06-10   88569.007812   89988.945312  ...  69591.796875   80774.671875   \n",
      "2022-06-13   85171.218750   86764.585938  ...  66889.195312   78283.398438   \n",
      "...                   ...            ...  ...           ...            ...   \n",
      "2025-05-28  112200.000000  289500.000000  ...  89000.000000  428500.000000   \n",
      "2025-05-29  115000.000000  310500.000000  ...  93200.000000  433500.000000   \n",
      "2025-05-30  113400.000000  316500.000000  ...  89400.000000  429000.000000   \n",
      "2025-06-02  111600.000000  312500.000000  ...  88400.000000  447500.000000   \n",
      "2025-06-04  113200.000000  327500.000000  ...  89600.000000  452000.000000   \n",
      "\n",
      "                010120.KS     024110.KS     000720.KS      005380.KS  \\\n",
      "Date                                                                   \n",
      "2022-06-07   49703.292969   8783.136719  40007.609375  156175.421875   \n",
      "2022-06-08   49703.292969   8783.136719  40577.113281  155749.875000   \n",
      "2022-06-09   50166.082031   8743.394531  39817.777344  155324.328125   \n",
      "2022-06-10   48592.605469   8624.166992  40339.824219  157026.531250   \n",
      "2022-06-13   47296.804688   8425.453125  38441.476562  148941.140625   \n",
      "...                   ...           ...           ...            ...   \n",
      "2025-05-28  248500.000000  15450.000000  60800.000000  183400.000000   \n",
      "2025-05-29  255000.000000  15640.000000  66900.000000  191000.000000   \n",
      "2025-05-30  252500.000000  15740.000000  63800.000000  185300.000000   \n",
      "2025-06-02  248000.000000  15430.000000  65700.000000  184000.000000   \n",
      "2025-06-04  256500.000000  15800.000000  68800.000000  186000.000000   \n",
      "\n",
      "            145020.KQ      009970.KS  259960.KS     005290.KQ  \n",
      "Date                                                           \n",
      "2022-06-07   122600.0   48933.605469   268500.0  39152.597656  \n",
      "2022-06-08   122200.0   49361.351562   271500.0  38656.363281  \n",
      "2022-06-09   122500.0   48249.222656   276500.0  38854.859375  \n",
      "2022-06-10   121000.0   46623.808594   274000.0  37912.019531  \n",
      "2022-06-13   117600.0   45853.875000   260000.0  36572.199219  \n",
      "...               ...            ...        ...           ...  \n",
      "2025-05-28   324500.0  115700.000000   383000.0  28700.000000  \n",
      "2025-05-29   327500.0  122700.000000   377500.0  28800.000000  \n",
      "2025-05-30   332000.0  120800.000000   369000.0  28300.000000  \n",
      "2025-06-02   336500.0  119500.000000   368000.0  27950.000000  \n",
      "2025-06-04   334000.0  125200.000000   367500.0  28200.000000  \n",
      "\n",
      "[733 rows x 74 columns]\n"
     ]
    },
    {
     "name": "stderr",
     "output_type": "stream",
     "text": [
      "\n"
     ]
    }
   ],
   "source": [
    "adj_close_df = pd.DataFrame()\n",
    "\n",
    "for ticker in tickers:\n",
    "    data = yf.download(ticker, start = startDate, end = endDate)\n",
    "    adj_close_df[ticker] = data['Close']\n",
    "\n",
    "print(adj_close_df)"
   ]
  },
  {
   "cell_type": "code",
   "execution_count": 5,
   "id": "8f1da10e",
   "metadata": {},
   "outputs": [],
   "source": [
    "log_returns = np.log(adj_close_df/adj_close_df.shift(1))\n",
    "log_returns = log_returns.dropna()"
   ]
  },
  {
   "cell_type": "code",
   "execution_count": 6,
   "id": "4d0983ac",
   "metadata": {},
   "outputs": [
    {
     "name": "stdout",
     "output_type": "stream",
     "text": [
      "           007340.KS  271560.KS  005930.KS  005440.KS  185750.KS  090435.KS  \\\n",
      "007340.KS   0.205411   0.026373   0.032571   0.033147   0.047697   0.040948   \n",
      "271560.KS   0.026373   0.080033   0.019487  -0.006850   0.013036   0.020515   \n",
      "005930.KS   0.032571   0.019487   0.093843   0.032796   0.022950   0.012057   \n",
      "005440.KS   0.033147  -0.006850   0.032796   0.134415   0.023274   0.022679   \n",
      "185750.KS   0.047697   0.013036   0.022950   0.023274   0.062117   0.043870   \n",
      "...              ...        ...        ...        ...        ...        ...   \n",
      "005380.KS   0.046852   0.011336   0.055656   0.028110   0.030043   0.023881   \n",
      "145020.KQ   0.050300   0.011318   0.023609   0.037808   0.035641   0.072204   \n",
      "009970.KS   0.055065   0.024884   0.039750   0.035522   0.030784   0.035705   \n",
      "259960.KS   0.045857  -0.025227   0.009919   0.027717   0.032107   0.042105   \n",
      "005290.KQ   0.036809   0.009944   0.082549   0.044558   0.018317  -0.001749   \n",
      "\n",
      "           090430.KS  035900.KQ  086280.KS  009540.KS  ...  000270.KS  \\\n",
      "007340.KS   0.045840   0.007060   0.058461   0.035990  ...   0.035038   \n",
      "271560.KS   0.021532   0.012563   0.009709  -0.012707  ...   0.007996   \n",
      "005930.KS   0.023557   0.025873   0.047472   0.025432  ...   0.044093   \n",
      "005440.KS   0.031494   0.022989   0.057202   0.059531  ...   0.032147   \n",
      "185750.KS   0.042951   0.023794   0.028041   0.037451  ...   0.025413   \n",
      "...              ...        ...        ...        ...  ...        ...   \n",
      "005380.KS   0.030210   0.039354   0.087795   0.038783  ...   0.104544   \n",
      "145020.KQ   0.082860   0.017258   0.019414   0.057825  ...   0.026052   \n",
      "009970.KS   0.035382   0.030607   0.023471   0.020695  ...   0.025984   \n",
      "259960.KS   0.052903   0.041787  -0.000029   0.008044  ...   0.031147   \n",
      "005290.KQ   0.007954   0.035525   0.019085   0.038061  ...   0.022786   \n",
      "\n",
      "           079550.KS  010120.KS  024110.KS  000720.KS  005380.KS  145020.KQ  \\\n",
      "007340.KS   0.059365   0.027594   0.027616   0.036979   0.046852   0.050300   \n",
      "271560.KS   0.055577  -0.016157   0.010801  -0.012758   0.011336   0.011318   \n",
      "005930.KS   0.018179   0.067382   0.025128   0.031004   0.055656   0.023609   \n",
      "005440.KS   0.044993   0.087772   0.019299   0.045749   0.028110   0.037808   \n",
      "185750.KS   0.030620   0.060280   0.017586   0.011384   0.030043   0.035641   \n",
      "...              ...        ...        ...        ...        ...        ...   \n",
      "005380.KS   0.007549   0.104498   0.030946   0.056034   0.120793   0.019276   \n",
      "145020.KQ   0.073917   0.031898   0.023017   0.029188   0.019276   0.256575   \n",
      "009970.KS   0.032555   0.077169   0.029399   0.033667   0.032463   0.018444   \n",
      "259960.KS  -0.014444  -0.005315   0.013728   0.019456   0.023087   0.028676   \n",
      "005290.KQ   0.014254   0.084258   0.016407   0.060819   0.047683   0.061539   \n",
      "\n",
      "           009970.KS  259960.KS  005290.KQ  \n",
      "007340.KS   0.055065   0.045857   0.036809  \n",
      "271560.KS   0.024884  -0.025227   0.009944  \n",
      "005930.KS   0.039750   0.009919   0.082549  \n",
      "005440.KS   0.035522   0.027717   0.044558  \n",
      "185750.KS   0.030784   0.032107   0.018317  \n",
      "...              ...        ...        ...  \n",
      "005380.KS   0.032463   0.023087   0.047683  \n",
      "145020.KQ   0.018444   0.028676   0.061539  \n",
      "009970.KS   0.120217   0.013267   0.042281  \n",
      "259960.KS   0.013267   0.200752   0.003906  \n",
      "005290.KQ   0.042281   0.003906   0.271199  \n",
      "\n",
      "[74 rows x 74 columns]\n"
     ]
    }
   ],
   "source": [
    "cov_matrix = log_returns.cov() * 252\n",
    "print(cov_matrix)"
   ]
  },
  {
   "cell_type": "code",
   "execution_count": 7,
   "id": "faf7c672",
   "metadata": {},
   "outputs": [],
   "source": [
    "def standard_deviation (weights, cov_matrix):\n",
    "    variance = weights.T @ cov_matrix @ weights\n",
    "    return np.sqrt(variance)"
   ]
  },
  {
   "cell_type": "code",
   "execution_count": 8,
   "id": "ee0843b1",
   "metadata": {},
   "outputs": [],
   "source": [
    "def expected_return (weights, log_returns):\n",
    "    return np.sum(log_returns.mean() * weights)*252"
   ]
  },
  {
   "cell_type": "code",
   "execution_count": 9,
   "id": "77235e95",
   "metadata": {},
   "outputs": [],
   "source": [
    "def sharpe_ratio (weights, log_returns, cov_matrix, risk_free_rate):\n",
    "    return (expected_return (weights, log_returns) - risk_free_rate) / standard_deviation (weights, cov_matrix)"
   ]
  },
  {
   "cell_type": "code",
   "execution_count": 10,
   "id": "d3b50dd7",
   "metadata": {},
   "outputs": [
    {
     "name": "stderr",
     "output_type": "stream",
     "text": [
      "/tmp/ipykernel_21773/3437368303.py:6: FutureWarning: Series.__getitem__ treating keys as positions is deprecated. In a future version, integer keys will always be treated as labels (consistent with DataFrame behavior). To access a value by position, use `ser.iloc[pos]`\n",
      "  risk_free_rate = ten_year_treasury_rate[-1]\n"
     ]
    }
   ],
   "source": [
    "from fredapi import Fred\n",
    "#https://fredaccount.stlouisfed.org/apikey\n",
    "fred = Fred(api_key = '34e4735c415e19669e7094dbd83af34f')\n",
    "ten_year_treasury_rate = fred.get_series_latest_release('GS10') / 100\n",
    "\n",
    "risk_free_rate = ten_year_treasury_rate[-1]\n",
    "# print(risk_free_rate)"
   ]
  },
  {
   "cell_type": "code",
   "execution_count": 11,
   "id": "c451979b",
   "metadata": {},
   "outputs": [],
   "source": [
    "#핵심\n",
    "#OPTIMIZE the portfolio using different techniques here like\n",
    "# monte carlo simulation, mathematical optimization, etc\n",
    "# other alternatives include black-litterman model, min variance, \n",
    "# max diversification/risk pairty, \n",
    "\n",
    "def neg_sharpe_ratio(weights, log_returns, cov_matrix, risk_free_rate):\n",
    "    return -sharpe_ratio(weights, log_returns, cov_matrix, risk_free_rate) + (lambda_penalty * np.sum(weights**2))\n",
    "\n",
    "constraints = {'type': 'eq', 'fun': lambda weights: np.sum(weights) - 1}\n",
    "\n",
    "#say you wanna fix AVGO's weight to be exactly 0.25. if you want it to be at least 0.25, change 'eq' to 'ineq'\n",
    "# constraints = [{'type': 'eq', 'fun': lambda weights: np.sum(weights) - 1}, \n",
    "#               {'type': 'eq', 'fun': lambda weights: weights[tickers.index('379800.KS')] - 0.75}]\n",
    "bounds = [(LOWER_BOUND, UPPER_BOUND) for _ in range(len(tickers))]\n",
    "initial_weights = np.array([1/len(tickers)]*len(tickers))"
   ]
  },
  {
   "cell_type": "code",
   "execution_count": 12,
   "id": "60f4f11b",
   "metadata": {},
   "outputs": [],
   "source": [
    "optimized_results = minimize(neg_sharpe_ratio, initial_weights, args=(log_returns, cov_matrix, risk_free_rate), method='SLSQP', constraints=constraints, bounds=bounds)"
   ]
  },
  {
   "cell_type": "code",
   "execution_count": 13,
   "id": "875c5527",
   "metadata": {},
   "outputs": [],
   "source": [
    "optimal_weights = optimized_results.x #.x gets the results"
   ]
  },
  {
   "cell_type": "code",
   "execution_count": 14,
   "id": "7b2afc01",
   "metadata": {},
   "outputs": [],
   "source": [
    "# print(\"Optimal Weights:\")\n",
    "# for ticker, weight in zip(tickers, optimal_weights):\n",
    "#     print(f\"{ticker}: {weight:.4f}\")\n",
    "\n",
    "# optimal_portfolio_return = expected_return(optimal_weights, log_returns)\n",
    "# optimal_portfolio_volatility = standard_deviation(optimal_weights, cov_matrix)\n",
    "# optimal_sharpe_ratio = sharpe_ratio(optimal_weights, log_returns, cov_matrix, risk_free_rate)\n",
    "\n",
    "# print(f\"Expected Annual Return: {optimal_portfolio_return:.4f}\")\n",
    "# print(f\"Expected Volatility: {optimal_portfolio_volatility:.4f}\")\n",
    "# print(f\"Sharpe Ratio: {optimal_sharpe_ratio:.4f}\")"
   ]
  },
  {
   "cell_type": "code",
   "execution_count": 15,
   "id": "6775aa3e",
   "metadata": {},
   "outputs": [],
   "source": [
    "import matplotlib.pyplot as plt\n",
    "\n",
    "# plt.figure(figsize=(10, 6))\n",
    "# plt.bar(tickers, optimal_weights)\n",
    "\n",
    "# plt.xlabel('Assets')\n",
    "# plt.ylabel('Optimal Weights')\n",
    "# plt.title('Optimal Portfolio Weights')\n",
    "\n",
    "# plt.show()"
   ]
  },
  {
   "cell_type": "code",
   "execution_count": 16,
   "id": "b3b09f10",
   "metadata": {},
   "outputs": [],
   "source": [
    "# Initialize the components, to run a Monte Carlo Simulation.\n",
    "number_of_symbols = len(tickers)\n",
    "# We will run 5000 iterations.\n",
    "num_of_portfolios = NUM_OF_SIMULATIONS\n",
    "\n",
    "float_formatter = \"{:.2f}\".format\n",
    "\n",
    "# Prep an array to store the weights as they are generated, 5000 iterations for each of our 4 symbols.\n",
    "all_weights = np.zeros((num_of_portfolios, number_of_symbols))\n",
    "\n",
    "# Prep an array to store the returns as they are generated, 5000 possible return values.\n",
    "ret_arr = np.zeros(num_of_portfolios)\n",
    "\n",
    "# Prep an array to store the volatilities as they are generated, 5000 possible volatility values.\n",
    "vol_arr = np.zeros(num_of_portfolios)\n",
    "\n",
    "# Prep an array to store the sharpe ratios as they are generated, 5000 possible Sharpe Ratios.\n",
    "sharpe_arr = np.zeros(num_of_portfolios)\n",
    "\n",
    "# Start the simulations.\n",
    "for ind in range(num_of_portfolios):\n",
    "\n",
    "    # First, calculate the weights.\n",
    "    weights = np.array(np.random.random(number_of_symbols))\n",
    "    weights = weights / np.sum(weights)\n",
    "\n",
    "    # Add the weights, to the `weights_arrays`.\n",
    "    all_weights[ind, :] = weights\n",
    "\n",
    "    # Calculate the expected log returns, and add them to the `returns_array`.\n",
    "    ret_arr[ind] = np.sum((log_returns.mean() * weights) * 252)\n",
    "\n",
    "    # Calculate the volatility, and add them to the `volatility_array`.\n",
    "    vol_arr[ind] = np.sqrt(\n",
    "        np.dot(weights.T, np.dot(log_returns.cov() * 252, weights))\n",
    "    )\n",
    "\n",
    "    # Calculate the Sharpe Ratio and Add it to the `sharpe_ratio_array`.\n",
    "    sharpe_arr[ind] = ret_arr[ind]/vol_arr[ind]\n",
    "\n",
    "# Let's create our \"Master Data Frame\", with the weights, the returns, the volatility, and the Sharpe Ratio\n",
    "\n",
    "simulations_data = [ret_arr, vol_arr, sharpe_arr, np.round(all_weights, 4)]\n",
    "# Create a DataFrame from it, then Transpose it so it looks like our original one.\n",
    "simulations_df = pd.DataFrame(data=simulations_data).T\n",
    "\n",
    "data = {\n",
    "    'Portfolio Weights': [\n",
    "        np.random.rand(10).tolist() for _ in range(5000)\n",
    "    ]\n",
    "}\n",
    "df = pd.DataFrame(data)\n",
    "\n",
    "# Set Pandas to display all columns and rows\n",
    "pd.set_option('display.max_rows', None)  # To display all rows\n",
    "pd.set_option('display.max_columns', None)  # To display all columns\n",
    "pd.set_option('display.max_colwidth', None)  # To prevent truncation of column values\n",
    "\n",
    "# Give the columns the Proper Names.\n",
    "simulations_df.columns = [\n",
    "    'Returns',\n",
    "    'Volatility',\n",
    "    'Sharpe Ratio',\n",
    "    'Portfolio Weights'\n",
    "]\n",
    "\n",
    "# Make sure the data types are correct, we don't want our floats to be strings.\n",
    "simulations_df = simulations_df.infer_objects()\n",
    "\n",
    "# Print out the results.\n",
    "MAX_LINE = 100\n",
    "# print('')\n",
    "# print('='*MAX_LINE)\n",
    "# print('SIMULATIONS RESULT:')\n",
    "# print('-'*MAX_LINE)\n",
    "# with np.printoptions(threshold=sys.maxsize):\n",
    "#     print(simulations_df)\n",
    "# print('-'*MAX_LINE)"
   ]
  },
  {
   "cell_type": "code",
   "execution_count": 17,
   "id": "9c366700",
   "metadata": {},
   "outputs": [
    {
     "name": "stdout",
     "output_type": "stream",
     "text": [
      "\n",
      "====================================================================================================\n",
      "MAX SHARPE RATIO:\n",
      "----------------------------------------------------------------------------------------------------\n",
      "Returns                                                                                                                                                                                                                                                                                                                                                                                                                                                                                                                                                                                                            0.770746\n",
      "Volatility                                                                                                                                                                                                                                                                                                                                                                                                                                                                                                                                                                                                         0.212006\n",
      "Sharpe Ratio                                                                                                                                                                                                                                                                                                                                                                                                                                                                                                                                                                                                       3.635486\n",
      "Portfolio Weights    [0.0262, 0.0258, 0.0216, 0.0091, 0.0124, 0.0174, 0.0142, 0.0141, 0.0006, 0.0123, 0.0132, 0.0165, 0.0186, 0.0064, 0.001, 0.0005, 0.025, 0.0039, 0.0156, 0.0185, 0.0056, 0.0142, 0.0036, 0.0283, 0.021, 0.0277, 0.0295, 0.0165, 0.0014, 0.0037, 0.0067, 0.0169, 0.0236, 0.0065, 0.0292, 0.0066, 0.0134, 0.0062, 0.0052, 0.0081, 0.0136, 0.0248, 0.0194, 0.0006, 0.0016, 0.0285, 0.0117, 0.003, 0.0033, 0.027, 0.0022, 0.0146, 0.0014, 0.0142, 0.0099, 0.0288, 0.0134, 0.0299, 0.0051, 0.0156, 0.017, 0.0198, 0.0008, 0.0118, 0.0127, 0.014, 0.0015, 0.0058, 0.02, 0.0023, 0.0266, 0.0299, 0.002, 0.0202]\n",
      "Name: 262, dtype: object\n",
      "----------------------------------------------------------------------------------------------------\n",
      "\n",
      "====================================================================================================\n",
      "MIN VOLATILITY:\n",
      "----------------------------------------------------------------------------------------------------\n",
      "Returns                                                                                                                                                                                                                                                                                                                                                                                                                                                                                                                                                                                                                  0.716683\n",
      "Volatility                                                                                                                                                                                                                                                                                                                                                                                                                                                                                                                                                                                                               0.202256\n",
      "Sharpe Ratio                                                                                                                                                                                                                                                                                                                                                                                                                                                                                                                                                                                                             3.543435\n",
      "Portfolio Weights    [0.0076, 0.0275, 0.018, 0.0216, 0.0273, 0.0118, 0.0262, 0.0193, 0.0052, 0.0067, 0.0045, 0.0089, 0.0136, 0.0137, 0.0065, 0.0136, 0.0137, 0.0005, 0.0022, 0.0022, 0.023, 0.0161, 0.0002, 0.0098, 0.0167, 0.026, 0.0198, 0.0162, 0.0222, 0.0069, 0.0089, 0.0146, 0.0137, 0.0043, 0.0036, 0.0105, 0.0032, 0.0049, 0.0136, 0.0226, 0.0278, 0.0006, 0.0032, 0.0154, 0.0043, 0.0175, 0.0222, 0.0066, 0.0032, 0.0231, 0.0166, 0.0089, 0.0207, 0.0038, 0.0062, 0.0046, 0.0232, 0.0133, 0.0276, 0.0262, 0.0103, 0.0135, 0.0261, 0.0169, 0.007, 0.0161, 0.0002, 0.0243, 0.0266, 0.0019, 0.0048, 0.0278, 0.0258, 0.0167]\n",
      "Name: 3561, dtype: object\n",
      "----------------------------------------------------------------------------------------------------\n"
     ]
    }
   ],
   "source": [
    "# Return the Max Sharpe Ratio from the run.\n",
    "max_sharpe_ratio = simulations_df.loc[simulations_df['Sharpe Ratio'].idxmax()]\n",
    "monte_carlo_max_sharpe_weights = max_sharpe_ratio.loc['Portfolio Weights']\n",
    "# Return the Min Volatility from the run.\n",
    "min_volatility = simulations_df.loc[simulations_df['Volatility'].idxmin()]\n",
    "monte_carlo_min_vol_weights = min_volatility.loc['Portfolio Weights']\n",
    "\n",
    "print('')\n",
    "print('='*MAX_LINE)\n",
    "print('MAX SHARPE RATIO:')\n",
    "print('-'*MAX_LINE)\n",
    "print(max_sharpe_ratio)\n",
    "print('-'*MAX_LINE)\n",
    "\n",
    "print('')\n",
    "print('='*MAX_LINE)\n",
    "print('MIN VOLATILITY:')\n",
    "print('-'*MAX_LINE)\n",
    "print(min_volatility)\n",
    "print('-'*MAX_LINE)"
   ]
  },
  {
   "cell_type": "markdown",
   "id": "1254e10e",
   "metadata": {},
   "source": [
    "Re-reun SLSQP Optimization with weights from Monte Carlo simulation as initial guess to land a global Sharpe Maximum and enhance results"
   ]
  },
  {
   "cell_type": "code",
   "execution_count": 18,
   "id": "446b9ace",
   "metadata": {},
   "outputs": [],
   "source": [
    "optimized_results_max_sharpe = minimize(neg_sharpe_ratio, monte_carlo_max_sharpe_weights, args=(log_returns, cov_matrix, risk_free_rate), method='SLSQP', constraints=constraints, bounds=bounds)\n",
    "optimized_results_min_vol = minimize(neg_sharpe_ratio, monte_carlo_min_vol_weights, args=(log_returns, cov_matrix, risk_free_rate), method='SLSQP', constraints=constraints, bounds=bounds)"
   ]
  },
  {
   "cell_type": "code",
   "execution_count": 19,
   "id": "204c46e9",
   "metadata": {},
   "outputs": [
    {
     "name": "stdout",
     "output_type": "stream",
     "text": [
      "Optimal Weights (최적화 가중치):\n",
      "원금: 1,700,000원. 백테스팅 기간: 3년\n",
      "271560.KS(ORION Corp.): 0.0642, 투자금액: 109,088원\n",
      "005440.KS(Hyundai G.F. Holdings Co., Ltd.): 0.1534, 투자금액: 260,813원\n",
      "001800.KS(ORION Holdings Corp.): 0.1066, 투자금액: 181,293원\n",
      "012450.KS(Hanwha Aerospace Co., Ltd.): 0.0090, 투자금액: 15,333원\n",
      "047810.KS(Korea Aerospace Industries, Ltd.): 0.0011, 투자금액: 1,903원\n",
      "064350.KS(Hyundai Rotem Company): 0.0866, 투자금액: 147,211원\n",
      "022100.KS(Posco Dx Company Ltd.): 0.0128, 투자금액: 21,758원\n",
      "111770.KS(Youngone Corporation): 0.0477, 투자금액: 81,099원\n",
      "089860.KS(LOTTE rental co.,ltd.): 0.0882, 투자금액: 149,911원\n",
      "214450.KQ(PharmaResearch Co., Ltd.): 0.1216, 투자금액: 206,702원\n",
      "000720.KS(Hyundai Engineering & Construction Co.,Ltd.): 0.1878, 투자금액: 319,295원\n",
      "009970.KS(Youngone Holdings Co., Ltd.): 0.1209, 투자금액: 205,593원\n",
      "Expected Annual Return: 1.7296\n",
      "Expected Volatility: 0.2274\n",
      "Sharpe Ratio: 7.4113\n"
     ]
    }
   ],
   "source": [
    "optimal_weights = optimized_results_max_sharpe.x\n",
    "threshold = 10e-4\n",
    "\n",
    "# print(optimal_weights)\n",
    "# optimal_weights = optimized_results_min_vol.x\n",
    "\n",
    "print(\"Optimal Weights (최적화 가중치):\")\n",
    "print(\"원금: \" + f\"{SEED:,}\"+ \"원. 백테스팅 기간: \" + F\"{BACKTEST}\" + \"년\")\n",
    "for ticker, weight in zip(tickers, optimal_weights):\n",
    "    if weight >= threshold:\n",
    "        num = round(SEED * weight)\n",
    "        with shelve.open(\"ticker_cache\") as cache:\n",
    "            print(f\"{ticker}({cache[ticker]}): {weight:.4f}\" + \", 투자금액: \" +  str(f\"{num:,}\") + \"원\")\n",
    "\n",
    "optimal_portfolio_return = expected_return(optimal_weights, log_returns)\n",
    "optimal_portfolio_volatility = standard_deviation(optimal_weights, cov_matrix)\n",
    "optimal_sharpe_ratio = sharpe_ratio(optimal_weights, log_returns, cov_matrix, risk_free_rate)\n",
    "\n",
    "print(f\"Expected Annual Return: {optimal_portfolio_return:.4f}\")\n",
    "print(f\"Expected Volatility: {optimal_portfolio_volatility:.4f}\")\n",
    "print(f\"Sharpe Ratio: {optimal_sharpe_ratio:.4f}\")"
   ]
  },
  {
   "cell_type": "code",
   "execution_count": 20,
   "id": "2784f17d",
   "metadata": {},
   "outputs": [
    {
     "data": {
      "image/png": "[encoded data removed]",
      "text/plain": [
       "<Figure size 1000x600 with 1 Axes>"
      ]
     },
     "metadata": {},
     "output_type": "display_data"
    }
   ],
   "source": [
    "plt.figure(figsize=(10, 6))\n",
    "plt.bar(tickers, optimal_weights)\n",
    "\n",
    "plt.xlabel('Assets')\n",
    "plt.ylabel('Optimal Weights')\n",
    "plt.title('Optimal Portfolio Weights')\n",
    "\n",
    "plt.show()"
   ]
  }
 ],
 "metadata": {
  "kernelspec": {
   "display_name": "Python 3",
   "language": "python",
   "name": "python3"
  },
  "language_info": {
   "codemirror_mode": {
    "name": "ipython",
    "version": 3
   },
   "file_extension": ".py",
   "mimetype": "text/x-python",
   "name": "python",
   "nbconvert_exporter": "python",
   "pygments_lexer": "ipython3",
   "version": "3.12.10"
  }
 },
 "nbformat": 4,
 "nbformat_minor": 5
}
