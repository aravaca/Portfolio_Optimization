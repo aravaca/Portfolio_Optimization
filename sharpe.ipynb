{
 "cells": [
  {
   "cell_type": "code",
   "execution_count": 1,
   "id": "129485fd",
   "metadata": {},
   "outputs": [],
   "source": [
    "import yfinance as yf\n",
    "import pandas as pd\n",
    "from pandas_datareader import data as pdr\n",
    "import datetime as dt\n",
    "import numpy as np\n",
    "import scipy as scipy\n",
    "from scipy.optimize import minimize\n",
    "import shelve\n",
    "\n",
    "BACKTEST = 3 # years, recommend at least 1~3 years\n",
    "LOWER_BOUND = 0 #increase for diversification \n",
    "UPPER_BOUND = 0.4\n",
    "NUM_OF_SIMULATIONS = 5000 #for monte carlo simulation\n",
    "SEED = 1700000 #a principal of 1,300,000KRW\n",
    "lambda_penalty = 0.5 #increase for robustness & diversificaiton, try 0.1 ~ 10"
   ]
  },
  {
   "cell_type": "code",
   "execution_count": 2,
   "id": "5379d2ed",
   "metadata": {},
   "outputs": [],
   "source": [
    "endDate = dt.datetime.today() + dt.timedelta(hours = 9) #한국 시간 기준\n",
    "startDate = endDate - dt.timedelta(days = 365 * BACKTEST)\n",
    "\n",
    "# tickers = ['379800.KS', '379810.KS', 'BTC-KRW', '047810.KS', '012450.KS']\n",
    "# tickers = ['379800.KS', '379810.KS', 'BTC-KRW', 'AAPL', 'MSFT', 'NVDA', 'GOOG', 'AMZN', 'META', 'BRK-B', 'AVGO', 'TSM', 'WMT', 'LLY', 'JPM']\n",
    "# tickers = ['379800.KS', '379810.KS', 'BTC-KRW', '047810.KS', '012450.KS', 'NVDA', 'AVGO', 'WMT', 'LLY', 'JPM']\n",
    "# tickers = ['379800.KS', '379810.KS', 'BTC-KRW', '047810.KS', '012450.KS', 'AAPL', 'MSFT', 'NVDA', 'GOOG', 'AMZN', 'META', 'BRK-B', 'AVGO', 'TSM', 'WMT', 'LLY', 'JPM']\n",
    "tickers = []\n",
    "\n",
    "with shelve.open(\"ticker_cache\") as cache:\n",
    "    for ticker, name in cache.items():\n",
    "        tickers.append(ticker)\n"
   ]
  },
  {
   "cell_type": "code",
   "execution_count": 3,
   "id": "fe80a5eb",
   "metadata": {},
   "outputs": [
    {
     "name": "stdout",
     "output_type": "stream",
     "text": [
      "KRW 1366.5\n"
     ]
    }
   ],
   "source": [
    "#stock = yf.Ticker(\"379800.KS\") #개별주 시장가 확인\n",
    "stock = yf.Ticker(\"KRW=X\") #환율\n",
    "price = stock.info['regularMarketPrice']\n",
    "print(stock.info['currency'] + \" \" + str(price))"
   ]
  },
  {
   "cell_type": "code",
   "execution_count": 4,
   "id": "006e8ad3",
   "metadata": {},
   "outputs": [
    {
     "name": "stdout",
     "output_type": "stream",
     "text": [
      "YF.download() has changed argument auto_adjust default to True\n"
     ]
    },
    {
     "name": "stderr",
     "output_type": "stream",
     "text": [
      "[*********************100%***********************]  1 of 1 completed\n",
      "[*********************100%***********************]  1 of 1 completed\n"
     ]
    },
    {
     "name": "stderr",
     "output_type": "stream",
     "text": [
      "[*********************100%***********************]  1 of 1 completed\n",
      "[*********************100%***********************]  1 of 1 completed\n",
      "[*********************100%***********************]  1 of 1 completed\n",
      "[*********************100%***********************]  1 of 1 completed\n",
      "[*********************100%***********************]  1 of 1 completed\n",
      "[*********************100%***********************]  1 of 1 completed\n",
      "[*********************100%***********************]  1 of 1 completed\n",
      "[*********************100%***********************]  1 of 1 completed\n",
      "[*********************100%***********************]  1 of 1 completed\n",
      "[*********************100%***********************]  1 of 1 completed\n",
      "[*********************100%***********************]  1 of 1 completed\n",
      "[*********************100%***********************]  1 of 1 completed\n",
      "[*********************100%***********************]  1 of 1 completed\n",
      "[*********************100%***********************]  1 of 1 completed\n",
      "[*********************100%***********************]  1 of 1 completed\n",
      "[*********************100%***********************]  1 of 1 completed\n",
      "[*********************100%***********************]  1 of 1 completed\n",
      "[*********************100%***********************]  1 of 1 completed\n",
      "[*********************100%***********************]  1 of 1 completed\n",
      "[*********************100%***********************]  1 of 1 completed\n",
      "[*********************100%***********************]  1 of 1 completed\n",
      "[*********************100%***********************]  1 of 1 completed\n",
      "[*********************100%***********************]  1 of 1 completed\n",
      "[*********************100%***********************]  1 of 1 completed\n",
      "[*********************100%***********************]  1 of 1 completed\n",
      "[*********************100%***********************]  1 of 1 completed\n",
      "[*********************100%***********************]  1 of 1 completed\n",
      "[*********************100%***********************]  1 of 1 completed"
     ]
    },
    {
     "name": "stdout",
     "output_type": "stream",
     "text": [
      "               005930.KS     090435.KS      090430.KS      086280.KS  \\\n",
      "Date                                                                   \n",
      "2022-06-07  61245.082031  62936.253906  156511.046875   93325.914062   \n",
      "2022-06-08  61058.082031  62657.367188  151620.078125   89928.132812   \n",
      "2022-06-09  60964.578125  61355.875000  153576.453125   91513.757812   \n",
      "2022-06-10  59655.523438  60891.058594  149663.671875   88569.015625   \n",
      "2022-06-13  58065.953125  58195.117188  146240.015625   85171.226562   \n",
      "...                  ...           ...            ...            ...   \n",
      "2025-05-28  55900.000000  40200.000000  135800.000000  112200.000000   \n",
      "2025-05-29  56100.000000  42450.000000  134300.000000  115000.000000   \n",
      "2025-05-30  56200.000000  44100.000000  133700.000000  113400.000000   \n",
      "2025-06-02  56800.000000  44400.000000  134300.000000  111600.000000   \n",
      "2025-06-04  57800.000000  45000.000000  134100.000000  113200.000000   \n",
      "\n",
      "                009540.KS  326030.KS     011200.KS     272210.KS  \\\n",
      "Date                                                               \n",
      "2022-06-07   90282.070312    83900.0  27215.367188  15431.935547   \n",
      "2022-06-08   91356.859375    82500.0  26906.099609  15195.250000   \n",
      "2022-06-09   91161.437500    82400.0  26022.484375  15621.284180   \n",
      "2022-06-10   89988.945312    81000.0  26022.484375  15621.284180   \n",
      "2022-06-13   86764.585938    76400.0  25006.326172  15195.250000   \n",
      "...                   ...        ...           ...           ...   \n",
      "2025-05-28  289500.000000    90300.0  21700.000000  45700.000000   \n",
      "2025-05-29  310500.000000    91600.0  21800.000000  45400.000000   \n",
      "2025-05-30  316500.000000    93000.0  21300.000000  45400.000000   \n",
      "2025-06-02  312500.000000    91100.0  22300.000000  43350.000000   \n",
      "2025-06-04  327500.000000    89700.0  22550.000000  43900.000000   \n",
      "\n",
      "                267260.KS      012330.KS  ...     003230.KS      033780.KS  \\\n",
      "Date                                      ...                                \n",
      "2022-06-07   23416.435547  204003.703125  ...  9.055042e+04   72575.835938   \n",
      "2022-06-08   23127.933594  203061.437500  ...  9.113149e+04   72068.898438   \n",
      "2022-06-09   22935.603516  209186.234375  ...  8.987251e+04   71899.921875   \n",
      "2022-06-10   22599.023438  204945.984375  ...  9.190626e+04   70801.570312   \n",
      "2022-06-13   21493.113281  197878.890625  ...  8.861351e+04   70294.632812   \n",
      "...                   ...            ...  ...           ...            ...   \n",
      "2025-05-28  379500.000000  254000.000000  ...  1.106000e+06  122600.000000   \n",
      "2025-05-29  383000.000000  263000.000000  ...  1.101000e+06  121000.000000   \n",
      "2025-05-30  379000.000000  253000.000000  ...  1.111000e+06  120200.000000   \n",
      "2025-06-02  378000.000000  246500.000000  ...  1.082000e+06  120600.000000   \n",
      "2025-06-04  382000.000000  250000.000000  ...  1.130000e+06  124400.000000   \n",
      "\n",
      "                000810.KS     000270.KS      079550.KS      010120.KS  \\\n",
      "Date                                                                    \n",
      "2022-06-07  165616.390625  70098.523438   78762.500000   49703.292969   \n",
      "2022-06-08  168581.390625  69085.054688   78379.226562   49703.292969   \n",
      "2022-06-09  169428.531250  69422.875000   81062.132812   50166.082031   \n",
      "2022-06-10  167734.250000  69591.789062   80774.671875   48592.609375   \n",
      "2022-06-13  165192.828125  66889.195312   78283.398438   47296.804688   \n",
      "...                   ...           ...            ...            ...   \n",
      "2025-05-28  391500.000000  89000.000000  428500.000000  248500.000000   \n",
      "2025-05-29  399500.000000  93200.000000  433500.000000  255000.000000   \n",
      "2025-05-30  404500.000000  89400.000000  429000.000000  252500.000000   \n",
      "2025-06-02  388000.000000  88400.000000  447500.000000  248000.000000   \n",
      "2025-06-04  425500.000000  89600.000000  452000.000000  256500.000000   \n",
      "\n",
      "               024110.KS     000720.KS      005380.KS  259960.KS  \n",
      "Date                                                              \n",
      "2022-06-07   8783.136719  40007.613281  156175.437500   268500.0  \n",
      "2022-06-08   8783.136719  40577.117188  155749.906250   271500.0  \n",
      "2022-06-09   8743.394531  39817.777344  155324.328125   276500.0  \n",
      "2022-06-10   8624.166992  40339.820312  157026.531250   274000.0  \n",
      "2022-06-13   8425.453125  38441.480469  148941.140625   260000.0  \n",
      "...                  ...           ...            ...        ...  \n",
      "2025-05-28  15450.000000  60800.000000  183400.000000   383000.0  \n",
      "2025-05-29  15640.000000  66900.000000  191000.000000   377500.0  \n",
      "2025-05-30  15740.000000  63800.000000  185300.000000   369000.0  \n",
      "2025-06-02  15430.000000  65700.000000  184000.000000   368000.0  \n",
      "2025-06-04  15800.000000  68800.000000  186000.000000   367500.0  \n",
      "\n",
      "[733 rows x 30 columns]\n"
     ]
    },
    {
     "name": "stderr",
     "output_type": "stream",
     "text": [
      "\n"
     ]
    }
   ],
   "source": [
    "adj_close_df = pd.DataFrame()\n",
    "\n",
    "for ticker in tickers:\n",
    "    data = yf.download(ticker, start = startDate, end = endDate)\n",
    "    adj_close_df[ticker] = data['Close']\n",
    "\n",
    "print(adj_close_df)"
   ]
  },
  {
   "cell_type": "code",
   "execution_count": 5,
   "id": "8f1da10e",
   "metadata": {},
   "outputs": [],
   "source": [
    "log_returns = np.log(adj_close_df/adj_close_df.shift(1))\n",
    "log_returns = log_returns.dropna()"
   ]
  },
  {
   "cell_type": "code",
   "execution_count": 6,
   "id": "4d0983ac",
   "metadata": {},
   "outputs": [
    {
     "name": "stdout",
     "output_type": "stream",
     "text": [
      "           005930.KS  090435.KS  090430.KS  086280.KS  009540.KS  326030.KS  \\\n",
      "005930.KS   0.108680   0.021415   0.022773   0.040361   0.035814   0.040753   \n",
      "090435.KS   0.021415   0.211130   0.214381   0.006303   0.028899   0.019299   \n",
      "090430.KS   0.022773   0.214381   0.279388   0.008301   0.032762   0.020368   \n",
      "086280.KS   0.040361   0.006303   0.008301   0.162685   0.045253   0.022557   \n",
      "009540.KS   0.035814   0.028899   0.032762   0.045253   0.252859   0.061011   \n",
      "326030.KS   0.040753   0.019299   0.020368   0.022557   0.061011   0.199530   \n",
      "011200.KS   0.045736   0.039736   0.046118   0.042273   0.059849   0.031559   \n",
      "272210.KS   0.018982  -0.010483   0.003499   0.024932   0.127930   0.039851   \n",
      "267260.KS   0.048084   0.002997   0.005928   0.050884   0.108911   0.050183   \n",
      "012330.KS   0.026532   0.007112   0.013568   0.067633   0.033522   0.021760   \n",
      "005385.KS   0.039511   0.019166   0.016560   0.048201   0.035608   0.025944   \n",
      "012450.KS   0.029597   0.002328   0.003337   0.028949   0.079906   0.054360   \n",
      "443060.KS   0.030174   0.028419   0.044640   0.028896   0.125091   0.051231   \n",
      "021240.KS   0.027641   0.036022   0.035051   0.028727   0.021152   0.038659   \n",
      "042700.KS   0.097971   0.062036   0.084492   0.042225   0.075093   0.052138   \n",
      "047810.KS   0.015129   0.012544   0.020917   0.007932   0.076129   0.029749   \n",
      "402340.KS   0.097987   0.052988   0.056085   0.052802   0.082431   0.064707   \n",
      "064350.KS   0.030826   0.013398   0.014632   0.024404   0.109089   0.073605   \n",
      "000660.KS   0.093815   0.051300   0.060074   0.038801   0.062466   0.053078   \n",
      "207940.KS   0.015848  -0.001788  -0.005873   0.023332   0.050172   0.069358   \n",
      "003230.KS   0.035142   0.040170   0.053836   0.009835   0.058874   0.068623   \n",
      "033780.KS   0.000215   0.001959   0.007665   0.008052   0.024010   0.009110   \n",
      "000810.KS   0.039151   0.024442   0.027481   0.034807   0.056908   0.048653   \n",
      "000270.KS   0.050038   0.041635   0.046886   0.059471   0.047460   0.038240   \n",
      "079550.KS   0.021103   0.000698   0.007357   0.034437   0.107822   0.053623   \n",
      "010120.KS   0.052376   0.045999   0.044890   0.036373   0.130912   0.055976   \n",
      "024110.KS   0.019540   0.015598   0.016616   0.025524   0.032487   0.021901   \n",
      "000720.KS   0.032560   0.031884   0.043124   0.030762   0.049035   0.042364   \n",
      "005380.KS   0.055660   0.027451   0.030113   0.062500   0.048037   0.039351   \n",
      "259960.KS   0.009630   0.035951   0.040970   0.015064   0.021695   0.022051   \n",
      "\n",
      "           011200.KS  272210.KS  267260.KS  012330.KS  ...  003230.KS  \\\n",
      "005930.KS   0.045736   0.018982   0.048084   0.026532  ...   0.035142   \n",
      "090435.KS   0.039736  -0.010483   0.002997   0.007112  ...   0.040170   \n",
      "090430.KS   0.046118   0.003499   0.005928   0.013568  ...   0.053836   \n",
      "086280.KS   0.042273   0.024932   0.050884   0.067633  ...   0.009835   \n",
      "009540.KS   0.059849   0.127930   0.108911   0.033522  ...   0.058874   \n",
      "326030.KS   0.031559   0.039851   0.050183   0.021760  ...   0.068623   \n",
      "011200.KS   0.184108   0.023703   0.046375   0.032099  ...   0.054999   \n",
      "272210.KS   0.023703   0.477380   0.152540   0.020814  ...   0.062266   \n",
      "267260.KS   0.046375   0.152540   0.468403   0.024664  ...   0.110497   \n",
      "012330.KS   0.032099   0.020814   0.024664   0.100516  ...   0.016192   \n",
      "005385.KS   0.020781   0.016067   0.052961   0.040622  ...   0.029602   \n",
      "012450.KS   0.037685   0.233539   0.087546   0.035610  ...   0.060462   \n",
      "443060.KS   0.024887   0.112547   0.098490   0.028952  ...   0.033192   \n",
      "021240.KS   0.026281  -0.008163  -0.017666   0.032743  ...  -0.001767   \n",
      "042700.KS   0.065196   0.075711   0.147927   0.049270  ...   0.071782   \n",
      "047810.KS   0.027605   0.173165   0.070297   0.020711  ...   0.051035   \n",
      "402340.KS   0.050715   0.063307   0.128900   0.054206  ...   0.106937   \n",
      "064350.KS   0.031909   0.205866   0.111677   0.024900  ...   0.096417   \n",
      "000660.KS   0.054288   0.066090   0.131240   0.037020  ...   0.108595   \n",
      "207940.KS   0.015755   0.031889   0.046839   0.007360  ...   0.033856   \n",
      "003230.KS   0.054999   0.062266   0.110497   0.016192  ...   0.392278   \n",
      "033780.KS   0.006598   0.029862  -0.000611   0.016779  ...   0.015979   \n",
      "000810.KS   0.029902   0.033752   0.041871   0.028622  ...   0.071329   \n",
      "000270.KS   0.040113   0.028164   0.056280   0.056778  ...   0.042976   \n",
      "079550.KS   0.036594   0.224035   0.123818   0.021283  ...   0.094268   \n",
      "010120.KS   0.038069   0.175376   0.335253   0.020989  ...   0.129451   \n",
      "024110.KS   0.019899   0.025161   0.015115   0.022406  ...   0.014939   \n",
      "000720.KS   0.043682   0.033499   0.051262   0.029460  ...   0.026710   \n",
      "005380.KS   0.033996   0.028656   0.068565   0.059647  ...   0.046592   \n",
      "259960.KS   0.016573  -0.044720   0.010597   0.016483  ...   0.022015   \n",
      "\n",
      "           033780.KS  000810.KS  000270.KS  079550.KS  010120.KS  024110.KS  \\\n",
      "005930.KS   0.000215   0.039151   0.050038   0.021103   0.052376   0.019540   \n",
      "090435.KS   0.001959   0.024442   0.041635   0.000698   0.045999   0.015598   \n",
      "090430.KS   0.007665   0.027481   0.046886   0.007357   0.044890   0.016616   \n",
      "086280.KS   0.008052   0.034807   0.059471   0.034437   0.036373   0.025524   \n",
      "009540.KS   0.024010   0.056908   0.047460   0.107822   0.130912   0.032487   \n",
      "326030.KS   0.009110   0.048653   0.038240   0.053623   0.055976   0.021901   \n",
      "011200.KS   0.006598   0.029902   0.040113   0.036594   0.038069   0.019899   \n",
      "272210.KS   0.029862   0.033752   0.028164   0.224035   0.175376   0.025161   \n",
      "267260.KS  -0.000611   0.041871   0.056280   0.123818   0.335253   0.015115   \n",
      "012330.KS   0.016779   0.028622   0.056778   0.021283   0.020989   0.022406   \n",
      "005385.KS   0.006308   0.037653   0.072476   0.019909   0.058345   0.021227   \n",
      "012450.KS   0.029833   0.036028   0.029521   0.231696   0.106059   0.020644   \n",
      "443060.KS   0.010745   0.045250   0.041703   0.081442   0.045656   0.021296   \n",
      "021240.KS   0.016328   0.032611   0.024742  -0.006336   0.025340   0.013468   \n",
      "042700.KS   0.016365   0.036343   0.081593   0.067359   0.166484   0.027237   \n",
      "047810.KS   0.019357   0.036420   0.026932   0.154764   0.086222   0.024191   \n",
      "402340.KS   0.022511   0.085760   0.072946   0.047409   0.146331   0.035344   \n",
      "064350.KS   0.018990   0.050815   0.039533   0.210727   0.127606   0.025656   \n",
      "000660.KS   0.019560   0.043681   0.072213   0.047418   0.153589   0.019908   \n",
      "207940.KS   0.004921   0.015273   0.014080   0.025991   0.033649   0.011820   \n",
      "003230.KS   0.015979   0.071329   0.042976   0.094268   0.129451   0.014939   \n",
      "033780.KS   0.101159   0.037652   0.002358   0.009556   0.008172   0.009468   \n",
      "000810.KS   0.037652   0.195760   0.050001   0.023865   0.048968   0.044514   \n",
      "000270.KS   0.002358   0.050001   0.118613   0.032347   0.066056   0.028742   \n",
      "079550.KS   0.009556   0.023865   0.032347   0.381352   0.134242   0.010686   \n",
      "010120.KS   0.008172   0.048968   0.066056   0.134242   0.548002   0.024320   \n",
      "024110.KS   0.009468   0.044514   0.028742   0.010686   0.024320   0.037587   \n",
      "000720.KS   0.004428   0.041353   0.038875   0.058130   0.056141   0.023034   \n",
      "005380.KS   0.001445   0.035619   0.098668   0.025133   0.073395   0.024167   \n",
      "259960.KS   0.007822   0.033585   0.027155   0.012967   0.024804   0.020620   \n",
      "\n",
      "           000720.KS  005380.KS  259960.KS  \n",
      "005930.KS   0.032560   0.055660   0.009630  \n",
      "090435.KS   0.031884   0.027451   0.035951  \n",
      "090430.KS   0.043124   0.030113   0.040970  \n",
      "086280.KS   0.030762   0.062500   0.015064  \n",
      "009540.KS   0.049035   0.048037   0.021695  \n",
      "326030.KS   0.042364   0.039351   0.022051  \n",
      "011200.KS   0.043682   0.033996   0.016573  \n",
      "272210.KS   0.033499   0.028656  -0.044720  \n",
      "267260.KS   0.051262   0.068565   0.010597  \n",
      "012330.KS   0.029460   0.059647   0.016483  \n",
      "005385.KS   0.029689   0.090869   0.014429  \n",
      "012450.KS   0.065124   0.022179   0.011449  \n",
      "443060.KS   0.047911   0.035549   0.017395  \n",
      "021240.KS   0.006493   0.018589   0.012870  \n",
      "042700.KS   0.041724   0.078432   0.034005  \n",
      "047810.KS   0.032684   0.028282   0.004466  \n",
      "402340.KS   0.046814   0.079988   0.045288  \n",
      "064350.KS   0.057372   0.031288   0.028118  \n",
      "000660.KS   0.041403   0.077387   0.033909  \n",
      "207940.KS   0.017907   0.017665   0.017246  \n",
      "003230.KS   0.026710   0.046592   0.022015  \n",
      "033780.KS   0.004428   0.001445   0.007822  \n",
      "000810.KS   0.041353   0.035619   0.033585  \n",
      "000270.KS   0.038875   0.098668   0.027155  \n",
      "079550.KS   0.058130   0.025133   0.012967  \n",
      "010120.KS   0.056141   0.073395   0.024804  \n",
      "024110.KS   0.023034   0.024167   0.020620  \n",
      "000720.KS   0.155945   0.036249   0.015042  \n",
      "005380.KS   0.036249   0.132404   0.015964  \n",
      "259960.KS   0.015042   0.015964   0.176815  \n",
      "\n",
      "[30 rows x 30 columns]\n"
     ]
    }
   ],
   "source": [
    "cov_matrix = log_returns.cov() * 252\n",
    "print(cov_matrix)"
   ]
  },
  {
   "cell_type": "code",
   "execution_count": 7,
   "id": "faf7c672",
   "metadata": {},
   "outputs": [],
   "source": [
    "def standard_deviation (weights, cov_matrix):\n",
    "    variance = weights.T @ cov_matrix @ weights\n",
    "    return np.sqrt(variance)"
   ]
  },
  {
   "cell_type": "code",
   "execution_count": 8,
   "id": "ee0843b1",
   "metadata": {},
   "outputs": [],
   "source": [
    "def expected_return (weights, log_returns):\n",
    "    return np.sum(log_returns.mean() * weights)*252"
   ]
  },
  {
   "cell_type": "code",
   "execution_count": 9,
   "id": "77235e95",
   "metadata": {},
   "outputs": [],
   "source": [
    "def sharpe_ratio (weights, log_returns, cov_matrix, risk_free_rate):\n",
    "    return (expected_return (weights, log_returns) - risk_free_rate) / standard_deviation (weights, cov_matrix)"
   ]
  },
  {
   "cell_type": "code",
   "execution_count": 10,
   "id": "d3b50dd7",
   "metadata": {},
   "outputs": [
    {
     "name": "stderr",
     "output_type": "stream",
     "text": [
      "/tmp/ipykernel_5487/3437368303.py:6: FutureWarning: Series.__getitem__ treating keys as positions is deprecated. In a future version, integer keys will always be treated as labels (consistent with DataFrame behavior). To access a value by position, use `ser.iloc[pos]`\n",
      "  risk_free_rate = ten_year_treasury_rate[-1]\n"
     ]
    }
   ],
   "source": [
    "from fredapi import Fred\n",
    "#https://fredaccount.stlouisfed.org/apikey\n",
    "fred = Fred(api_key = '34e4735c415e19669e7094dbd83af34f')\n",
    "ten_year_treasury_rate = fred.get_series_latest_release('GS10') / 100\n",
    "\n",
    "risk_free_rate = ten_year_treasury_rate[-1]\n",
    "# print(risk_free_rate)"
   ]
  },
  {
   "cell_type": "code",
   "execution_count": 11,
   "id": "c451979b",
   "metadata": {},
   "outputs": [],
   "source": [
    "#핵심\n",
    "#OPTIMIZE the portfolio using different techniques here like\n",
    "# monte carlo simulation, mathematical optimization, etc\n",
    "# other alternatives include black-litterman model, min variance, \n",
    "# max diversification/risk pairty, \n",
    "\n",
    "def neg_sharpe_ratio(weights, log_returns, cov_matrix, risk_free_rate):\n",
    "    return -sharpe_ratio(weights, log_returns, cov_matrix, risk_free_rate) + (lambda_penalty * np.sum(weights**2))\n",
    "\n",
    "constraints = {'type': 'eq', 'fun': lambda weights: np.sum(weights) - 1}\n",
    "\n",
    "#say you wanna fix AVGO's weight to be exactly 0.25. if you want it to be at least 0.25, change 'eq' to 'ineq'\n",
    "# constraints = [{'type': 'eq', 'fun': lambda weights: np.sum(weights) - 1}, \n",
    "#               {'type': 'eq', 'fun': lambda weights: weights[tickers.index('379800.KS')] - 0.75}]\n",
    "bounds = [(LOWER_BOUND, UPPER_BOUND) for _ in range(len(tickers))]\n",
    "initial_weights = np.array([1/len(tickers)]*len(tickers))"
   ]
  },
  {
   "cell_type": "code",
   "execution_count": 12,
   "id": "60f4f11b",
   "metadata": {},
   "outputs": [],
   "source": [
    "optimized_results = minimize(neg_sharpe_ratio, initial_weights, args=(log_returns, cov_matrix, risk_free_rate), method='SLSQP', constraints=constraints, bounds=bounds)"
   ]
  },
  {
   "cell_type": "code",
   "execution_count": 13,
   "id": "875c5527",
   "metadata": {},
   "outputs": [],
   "source": [
    "optimal_weights = optimized_results.x #.x gets the results"
   ]
  },
  {
   "cell_type": "code",
   "execution_count": 14,
   "id": "7b2afc01",
   "metadata": {},
   "outputs": [],
   "source": [
    "# print(\"Optimal Weights:\")\n",
    "# for ticker, weight in zip(tickers, optimal_weights):\n",
    "#     print(f\"{ticker}: {weight:.4f}\")\n",
    "\n",
    "# optimal_portfolio_return = expected_return(optimal_weights, log_returns)\n",
    "# optimal_portfolio_volatility = standard_deviation(optimal_weights, cov_matrix)\n",
    "# optimal_sharpe_ratio = sharpe_ratio(optimal_weights, log_returns, cov_matrix, risk_free_rate)\n",
    "\n",
    "# print(f\"Expected Annual Return: {optimal_portfolio_return:.4f}\")\n",
    "# print(f\"Expected Volatility: {optimal_portfolio_volatility:.4f}\")\n",
    "# print(f\"Sharpe Ratio: {optimal_sharpe_ratio:.4f}\")"
   ]
  },
  {
   "cell_type": "code",
   "execution_count": 15,
   "id": "6775aa3e",
   "metadata": {},
   "outputs": [],
   "source": [
    "import matplotlib.pyplot as plt\n",
    "\n",
    "# plt.figure(figsize=(10, 6))\n",
    "# plt.bar(tickers, optimal_weights)\n",
    "\n",
    "# plt.xlabel('Assets')\n",
    "# plt.ylabel('Optimal Weights')\n",
    "# plt.title('Optimal Portfolio Weights')\n",
    "\n",
    "# plt.show()"
   ]
  },
  {
   "cell_type": "code",
   "execution_count": 16,
   "id": "b3b09f10",
   "metadata": {},
   "outputs": [],
   "source": [
    "# Initialize the components, to run a Monte Carlo Simulation.\n",
    "number_of_symbols = len(tickers)\n",
    "# We will run 5000 iterations.\n",
    "num_of_portfolios = NUM_OF_SIMULATIONS\n",
    "\n",
    "float_formatter = \"{:.2f}\".format\n",
    "\n",
    "# Prep an array to store the weights as they are generated, 5000 iterations for each of our 4 symbols.\n",
    "all_weights = np.zeros((num_of_portfolios, number_of_symbols))\n",
    "\n",
    "# Prep an array to store the returns as they are generated, 5000 possible return values.\n",
    "ret_arr = np.zeros(num_of_portfolios)\n",
    "\n",
    "# Prep an array to store the volatilities as they are generated, 5000 possible volatility values.\n",
    "vol_arr = np.zeros(num_of_portfolios)\n",
    "\n",
    "# Prep an array to store the sharpe ratios as they are generated, 5000 possible Sharpe Ratios.\n",
    "sharpe_arr = np.zeros(num_of_portfolios)\n",
    "\n",
    "# Start the simulations.\n",
    "for ind in range(num_of_portfolios):\n",
    "\n",
    "    # First, calculate the weights.\n",
    "    weights = np.array(np.random.random(number_of_symbols))\n",
    "    weights = weights / np.sum(weights)\n",
    "\n",
    "    # Add the weights, to the `weights_arrays`.\n",
    "    all_weights[ind, :] = weights\n",
    "\n",
    "    # Calculate the expected log returns, and add them to the `returns_array`.\n",
    "    ret_arr[ind] = np.sum((log_returns.mean() * weights) * 252)\n",
    "\n",
    "    # Calculate the volatility, and add them to the `volatility_array`.\n",
    "    vol_arr[ind] = np.sqrt(\n",
    "        np.dot(weights.T, np.dot(log_returns.cov() * 252, weights))\n",
    "    )\n",
    "\n",
    "    # Calculate the Sharpe Ratio and Add it to the `sharpe_ratio_array`.\n",
    "    sharpe_arr[ind] = ret_arr[ind]/vol_arr[ind]\n",
    "\n",
    "# Let's create our \"Master Data Frame\", with the weights, the returns, the volatility, and the Sharpe Ratio\n",
    "\n",
    "simulations_data = [ret_arr, vol_arr, sharpe_arr, np.round(all_weights, 4)]\n",
    "# Create a DataFrame from it, then Transpose it so it looks like our original one.\n",
    "simulations_df = pd.DataFrame(data=simulations_data).T\n",
    "\n",
    "data = {\n",
    "    'Portfolio Weights': [\n",
    "        np.random.rand(10).tolist() for _ in range(5000)\n",
    "    ]\n",
    "}\n",
    "df = pd.DataFrame(data)\n",
    "\n",
    "# Set Pandas to display all columns and rows\n",
    "pd.set_option('display.max_rows', None)  # To display all rows\n",
    "pd.set_option('display.max_columns', None)  # To display all columns\n",
    "pd.set_option('display.max_colwidth', None)  # To prevent truncation of column values\n",
    "\n",
    "# Give the columns the Proper Names.\n",
    "simulations_df.columns = [\n",
    "    'Returns',\n",
    "    'Volatility',\n",
    "    'Sharpe Ratio',\n",
    "    'Portfolio Weights'\n",
    "]\n",
    "\n",
    "# Make sure the data types are correct, we don't want our floats to be strings.\n",
    "simulations_df = simulations_df.infer_objects()\n",
    "\n",
    "# Print out the results.\n",
    "MAX_LINE = 100\n",
    "# print('')\n",
    "# print('='*MAX_LINE)\n",
    "# print('SIMULATIONS RESULT:')\n",
    "# print('-'*MAX_LINE)\n",
    "# with np.printoptions(threshold=sys.maxsize):\n",
    "#     print(simulations_df)\n",
    "# print('-'*MAX_LINE)"
   ]
  },
  {
   "cell_type": "code",
   "execution_count": 17,
   "id": "9c366700",
   "metadata": {},
   "outputs": [
    {
     "name": "stdout",
     "output_type": "stream",
     "text": [
      "\n",
      "====================================================================================================\n",
      "MAX SHARPE RATIO:\n",
      "----------------------------------------------------------------------------------------------------\n",
      "Returns                                                                                                                                                                                                                                                  0.501721\n",
      "Volatility                                                                                                                                                                                                                                               0.231236\n",
      "Sharpe Ratio                                                                                                                                                                                                                                             2.169732\n",
      "Portfolio Weights    [0.0218, 0.0043, 0.0047, 0.0652, 0.0527, 0.0267, 0.05, 0.0473, 0.0062, 0.0064, 0.0717, 0.0242, 0.0221, 0.078, 0.0103, 0.0645, 0.0093, 0.065, 0.0124, 0.0004, 0.0461, 0.0447, 0.0111, 0.0126, 0.0247, 0.0593, 0.0265, 0.0622, 0.0046, 0.0649]\n",
      "Name: 1708, dtype: object\n",
      "----------------------------------------------------------------------------------------------------\n",
      "\n",
      "====================================================================================================\n",
      "MIN VOLATILITY:\n",
      "----------------------------------------------------------------------------------------------------\n",
      "Returns                                                                                                                                                                                                                                                  0.26343\n",
      "Volatility                                                                                                                                                                                                                                              0.200046\n",
      "Sharpe Ratio                                                                                                                                                                                                                                            1.316848\n",
      "Portfolio Weights    [0.0459, 0.046, 0.0553, 0.0512, 0.0062, 0.0635, 0.0669, 0.0236, 0.0309, 0.021, 0.0557, 0.0403, 0.0148, 0.0535, 0.0165, 0.0287, 0.0154, 0.0022, 0.0054, 0.0531, 0.0036, 0.057, 0.0158, 0.0378, 0.0009, 0.03, 0.0287, 0.0619, 0.0008, 0.0674]\n",
      "Name: 2124, dtype: object\n",
      "----------------------------------------------------------------------------------------------------\n"
     ]
    }
   ],
   "source": [
    "# Return the Max Sharpe Ratio from the run.\n",
    "max_sharpe_ratio = simulations_df.loc[simulations_df['Sharpe Ratio'].idxmax()]\n",
    "monte_carlo_max_sharpe_weights = max_sharpe_ratio.loc['Portfolio Weights']\n",
    "# Return the Min Volatility from the run.\n",
    "min_volatility = simulations_df.loc[simulations_df['Volatility'].idxmin()]\n",
    "monte_carlo_min_vol_weights = min_volatility.loc['Portfolio Weights']\n",
    "\n",
    "print('')\n",
    "print('='*MAX_LINE)\n",
    "print('MAX SHARPE RATIO:')\n",
    "print('-'*MAX_LINE)\n",
    "print(max_sharpe_ratio)\n",
    "print('-'*MAX_LINE)\n",
    "\n",
    "print('')\n",
    "print('='*MAX_LINE)\n",
    "print('MIN VOLATILITY:')\n",
    "print('-'*MAX_LINE)\n",
    "print(min_volatility)\n",
    "print('-'*MAX_LINE)"
   ]
  },
  {
   "cell_type": "markdown",
   "id": "1254e10e",
   "metadata": {},
   "source": [
    "Re-reun SLSQP Optimization with weights from Monte Carlo simulation as initial guess to land a global Sharpe Maximum and enhance results"
   ]
  },
  {
   "cell_type": "code",
   "execution_count": 18,
   "id": "446b9ace",
   "metadata": {},
   "outputs": [],
   "source": [
    "optimized_results_max_sharpe = minimize(neg_sharpe_ratio, monte_carlo_max_sharpe_weights, args=(log_returns, cov_matrix, risk_free_rate), method='SLSQP', constraints=constraints, bounds=bounds)\n",
    "optimized_results_min_vol = minimize(neg_sharpe_ratio, monte_carlo_min_vol_weights, args=(log_returns, cov_matrix, risk_free_rate), method='SLSQP', constraints=constraints, bounds=bounds)"
   ]
  },
  {
   "cell_type": "code",
   "execution_count": 19,
   "id": "204c46e9",
   "metadata": {},
   "outputs": [
    {
     "name": "stdout",
     "output_type": "stream",
     "text": [
      "Optimal Weights (최적화 가중치):\n",
      "원금: 1,700,000원. 백테스팅 기간: 3년\n",
      "009540.KS(HD Korea Shipbuilding & Offshore Engineering Co., Ltd.): 0.1015, 투자금액: 172,616원\n",
      "012450.KS(Hanwha Aerospace Co., Ltd.): 0.0852, 투자금액: 144,919원\n",
      "021240.KS(COWAY Co., Ltd.): 0.1592, 투자금액: 270,646원\n",
      "064350.KS(Hyundai Rotem Company): 0.1402, 투자금액: 238,420원\n",
      "003230.KS(Samyang Foods Co., Ltd.): 0.1828, 투자금액: 310,739원\n",
      "033780.KS(KT&G Corporation): 0.1164, 투자금액: 197,832원\n",
      "000720.KS(Hyundai Engineering & Construction Co.,Ltd.): 0.1593, 투자금액: 270,810원\n",
      "259960.KS(KRAFTON, Inc.): 0.0553, 투자금액: 94,018원\n",
      "Expected Annual Return: 0.8617\n",
      "Expected Volatility: 0.2615\n",
      "Sharpe Ratio: 3.1259\n"
     ]
    }
   ],
   "source": [
    "optimal_weights = optimized_results_max_sharpe.x\n",
    "threshold = 10e-4\n",
    "\n",
    "# print(optimal_weights)\n",
    "# optimal_weights = optimized_results_min_vol.x\n",
    "\n",
    "print(\"Optimal Weights (최적화 가중치):\")\n",
    "print(\"원금: \" + f\"{SEED:,}\"+ \"원. 백테스팅 기간: \" + F\"{BACKTEST}\" + \"년\")\n",
    "for ticker, weight in zip(tickers, optimal_weights):\n",
    "    if weight >= threshold:\n",
    "        num = round(SEED * weight)\n",
    "        with shelve.open(\"ticker_cache\") as cache:\n",
    "            print(f\"{ticker}({cache[ticker]}): {weight:.4f}\" + \", 투자금액: \" +  str(f\"{num:,}\") + \"원\")\n",
    "\n",
    "optimal_portfolio_return = expected_return(optimal_weights, log_returns)\n",
    "optimal_portfolio_volatility = standard_deviation(optimal_weights, cov_matrix)\n",
    "optimal_sharpe_ratio = sharpe_ratio(optimal_weights, log_returns, cov_matrix, risk_free_rate)\n",
    "\n",
    "print(f\"Expected Annual Return: {optimal_portfolio_return:.4f}\")\n",
    "print(f\"Expected Volatility: {optimal_portfolio_volatility:.4f}\")\n",
    "print(f\"Sharpe Ratio: {optimal_sharpe_ratio:.4f}\")"
   ]
  },
  {
   "cell_type": "code",
   "execution_count": 20,
   "id": "2784f17d",
   "metadata": {},
   "outputs": [
    {
     "data": {
      "image/png": "[encoded data removed]",
      "text/plain": [
       "<Figure size 1000x600 with 1 Axes>"
      ]
     },
     "metadata": {},
     "output_type": "display_data"
    }
   ],
   "source": [
    "plt.figure(figsize=(10, 6))\n",
    "plt.bar(tickers, optimal_weights)\n",
    "\n",
    "plt.xlabel('Assets')\n",
    "plt.ylabel('Optimal Weights')\n",
    "plt.title('Optimal Portfolio Weights')\n",
    "\n",
    "plt.show()"
   ]
  }
 ],
 "metadata": {
  "kernelspec": {
   "display_name": "Python 3",
   "language": "python",
   "name": "python3"
  },
  "language_info": {
   "codemirror_mode": {
    "name": "ipython",
    "version": 3
   },
   "file_extension": ".py",
   "mimetype": "text/x-python",
   "name": "python",
   "nbconvert_exporter": "python",
   "pygments_lexer": "ipython3",
   "version": "3.12.10"
  }
 },
 "nbformat": 4,
 "nbformat_minor": 5
}
