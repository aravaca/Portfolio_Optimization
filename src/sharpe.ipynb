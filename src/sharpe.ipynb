{
 "cells": [
  {
   "cell_type": "code",
   "execution_count": 3,
   "id": "129485fd",
   "metadata": {},
   "outputs": [],
   "source": [
    "import yfinance as yf\n",
    "import pandas as pd\n",
    "from pandas_datareader import data as pdr\n",
    "import datetime as dt\n",
    "import numpy as np\n",
    "import scipy as scipy\n",
    "from scipy.optimize import minimize\n",
    "import shelve\n",
    "\n",
    "BACKTEST = 3 # years, recommend at least 1~3 years\n",
    "LOWER_BOUND = 0 #increase for diversification \n",
    "UPPER_BOUND = 0.4\n",
    "NUM_OF_SIMULATIONS = 5000 #for monte carlo simulation\n",
    "SEED = 2600000 # principal\n",
    "CUTOFF = 7\n",
    "lambda_penalty = 0.5 #increase for robustness & diversificaiton, try 0.1 ~ 10"
   ]
  },
  {
   "cell_type": "code",
   "execution_count": 4,
   "id": "5379d2ed",
   "metadata": {},
   "outputs": [],
   "source": [
    "endDate = dt.datetime.today() + dt.timedelta(hours = 9) #한국 시간 기준\n",
    "startDate = endDate - dt.timedelta(days = 365 * BACKTEST)\n",
    "\n",
    "tickers = []\n",
    "\n",
    "with shelve.open(\"../cache/ticker_cache\") as cache:\n",
    "    for ticker, (name, score) in cache.items():\n",
    "        if score >= CUTOFF:\n",
    "            tickers.append(ticker)\n"
   ]
  },
  {
   "cell_type": "code",
   "execution_count": 5,
   "id": "fe80a5eb",
   "metadata": {},
   "outputs": [
    {
     "name": "stdout",
     "output_type": "stream",
     "text": [
      "KRW 1366.89\n"
     ]
    }
   ],
   "source": [
    "#stock = yf.Ticker(\"379800.KS\") #개별주 시장가 확인\n",
    "stock = yf.Ticker(\"KRW=X\") #환율\n",
    "price = stock.info['regularMarketPrice']\n",
    "print(stock.info['currency'] + \" \" + str(price))"
   ]
  },
  {
   "cell_type": "code",
   "execution_count": 6,
   "id": "006e8ad3",
   "metadata": {},
   "outputs": [
    {
     "name": "stderr",
     "output_type": "stream",
     "text": [
      "[*********************100%***********************]  1 of 1 completed"
     ]
    },
    {
     "name": "stdout",
     "output_type": "stream",
     "text": [
      "YF.download() has changed argument auto_adjust default to True\n"
     ]
    },
    {
     "name": "stderr",
     "output_type": "stream",
     "text": [
      "\n",
      "[*********************100%***********************]  1 of 1 completed\n",
      "[*********************100%***********************]  1 of 1 completed\n",
      "[*********************100%***********************]  1 of 1 completed\n",
      "[*********************100%***********************]  1 of 1 completed\n",
      "[*********************100%***********************]  1 of 1 completed\n",
      "[*********************100%***********************]  1 of 1 completed\n",
      "[*********************100%***********************]  1 of 1 completed\n",
      "[*********************100%***********************]  1 of 1 completed\n",
      "[*********************100%***********************]  1 of 1 completed\n",
      "[*********************100%***********************]  1 of 1 completed\n",
      "[*********************100%***********************]  1 of 1 completed\n",
      "[*********************100%***********************]  1 of 1 completed\n",
      "[*********************100%***********************]  1 of 1 completed\n",
      "[*********************100%***********************]  1 of 1 completed\n"
     ]
    },
    {
     "name": "stdout",
     "output_type": "stream",
     "text": [
      "                383220.KS     011200.KS     012330.KS     175330.KS  \\\n",
      "Date                                                                  \n",
      "2022-06-20  128249.148438  22311.300781  187984.93750   6136.121582   \n",
      "2022-06-21  132477.125000  23062.373047  189398.37500   6269.345703   \n",
      "2022-06-22  126370.023438  22443.841797  186571.53125   5995.061035   \n",
      "2022-06-23  124960.695312  21206.779297  185158.09375   5752.124023   \n",
      "2022-06-24  129188.695312  21295.142578  186100.37500   6018.570801   \n",
      "...                   ...           ...           ...           ...   \n",
      "2025-06-11   77800.000000  22500.000000  288500.00000  19390.000000   \n",
      "2025-06-12   77600.000000  23000.000000  284500.00000  20900.000000   \n",
      "2025-06-13   74600.000000  24200.000000  282000.00000  20000.000000   \n",
      "2025-06-16   75900.000000  24300.000000  285500.00000  21000.000000   \n",
      "2025-06-17   76100.000000  23000.000000  286000.00000  21900.000000   \n",
      "\n",
      "               051600.KS     002790.KS      005830.KS      103140.KS  \\\n",
      "Date                                                                   \n",
      "2022-06-20  30821.605469  37847.648438   50072.957031   23653.187500   \n",
      "2022-06-21  30049.996094  39109.234375   50401.839844   23518.281250   \n",
      "2022-06-22  29064.046875  35712.648438   49990.734375   22573.953125   \n",
      "2022-06-23  28763.974609  35906.742188   48592.964844   22304.144531   \n",
      "2022-06-24  30264.332031  36634.582031   49168.515625   22528.984375   \n",
      "...                  ...           ...            ...            ...   \n",
      "2025-06-11  44150.000000  28550.000000  111700.000000   84200.000000   \n",
      "2025-06-12  50300.000000  28200.000000  118800.000000   87600.000000   \n",
      "2025-06-13  50500.000000  27900.000000  112900.000000  107000.000000   \n",
      "2025-06-16  53500.000000  27900.000000  117400.000000  107000.000000   \n",
      "2025-06-17  52600.000000  28350.000000  118200.000000  104500.000000   \n",
      "\n",
      "            402340.KS      064350.KS  064400.KS     241560.KS      214450.KQ  \\\n",
      "Date                                                                           \n",
      "2022-06-20    41800.0   19883.644531        NaN  26985.207031   69312.179688   \n",
      "2022-06-21    41500.0   20132.191406        NaN  26985.207031   71675.101562   \n",
      "2022-06-22    40600.0   19138.007812        NaN  26045.425781   69804.453125   \n",
      "2022-06-23    39000.0   18292.953125        NaN  25463.656250   68426.085938   \n",
      "2022-06-24    40950.0   18790.044922        NaN  25866.419922   72265.828125   \n",
      "...               ...            ...        ...           ...            ...   \n",
      "2025-06-11   138400.0  170900.000000    52700.0  51100.000000  521000.000000   \n",
      "2025-06-12   140600.0  179700.000000    59000.0  50600.000000  523000.000000   \n",
      "2025-06-13   138800.0  186800.000000    63900.0  50600.000000  433500.000000   \n",
      "2025-06-16   149900.0  198600.000000    71100.0  51600.000000  458000.000000   \n",
      "2025-06-17   153400.0  198000.000000    75200.0  51900.000000  420000.000000   \n",
      "\n",
      "               012750.KS     030000.KS  \n",
      "Date                                    \n",
      "2022-06-20  54160.113281  20246.796875  \n",
      "2022-06-21  54160.113281  20330.806641  \n",
      "2022-06-22  53720.500000  20036.767578  \n",
      "2022-06-23  54599.726562  19784.732422  \n",
      "2022-06-24  55654.789062  20246.796875  \n",
      "...                  ...           ...  \n",
      "2025-06-11  70600.000000  19000.000000  \n",
      "2025-06-12  71700.000000  20000.000000  \n",
      "2025-06-13  69200.000000  19800.000000  \n",
      "2025-06-16  71300.000000  20300.000000  \n",
      "2025-06-17  69500.000000  20700.000000  \n",
      "\n",
      "[732 rows x 15 columns]\n"
     ]
    }
   ],
   "source": [
    "adj_close_df = pd.DataFrame()\n",
    "\n",
    "for ticker in tickers:\n",
    "    data = yf.download(ticker, start = startDate, end = endDate)\n",
    "    adj_close_df[ticker] = data['Close']\n",
    "\n",
    "print(adj_close_df)"
   ]
  },
  {
   "cell_type": "code",
   "execution_count": 7,
   "id": "8f1da10e",
   "metadata": {},
   "outputs": [],
   "source": [
    "log_returns = np.log(adj_close_df/adj_close_df.shift(1))\n",
    "log_returns = log_returns.dropna()"
   ]
  },
  {
   "cell_type": "code",
   "execution_count": 8,
   "id": "4d0983ac",
   "metadata": {},
   "outputs": [
    {
     "name": "stdout",
     "output_type": "stream",
     "text": [
      "           383220.KS  011200.KS  012330.KS  175330.KS  051600.KS  002790.KS  \\\n",
      "383220.KS   0.122164  -0.000771   0.021579   0.036966   0.032828   0.042036   \n",
      "011200.KS  -0.000771   0.195199   0.045277   0.036007   0.010474   0.031011   \n",
      "012330.KS   0.021579   0.045277   0.150376   0.042875   0.028608   0.039242   \n",
      "175330.KS   0.036966   0.036007   0.042875   0.143689   0.051067   0.049411   \n",
      "051600.KS   0.032828   0.010474   0.028608   0.051067   0.178196   0.028758   \n",
      "002790.KS   0.042036   0.031011   0.039242   0.049411   0.028758   0.102121   \n",
      "005830.KS   0.034316   0.030056   0.054151   0.069549   0.044383   0.028460   \n",
      "103140.KS   0.011942   0.070323   0.039438   0.010338   0.048321   0.034318   \n",
      "402340.KS   0.049731   0.051871   0.087918   0.118827   0.074790   0.075298   \n",
      "064350.KS   0.012713   0.054897   0.003606   0.034105   0.060448   0.032119   \n",
      "064400.KS   0.021474   0.019827   0.027225   0.056474   0.072049   0.025411   \n",
      "241560.KS   0.049692   0.021107   0.023984   0.045190   0.040812   0.056816   \n",
      "214450.KQ   0.051114   0.046094   0.024229   0.052430   0.046524   0.059073   \n",
      "012750.KS   0.009234   0.012274   0.033576   0.022743   0.037535   0.018976   \n",
      "030000.KS   0.012883   0.011960   0.021232   0.037843   0.033339   0.012197   \n",
      "\n",
      "           005830.KS  103140.KS  402340.KS  064350.KS  064400.KS  241560.KS  \\\n",
      "383220.KS   0.034316   0.011942   0.049731   0.012713   0.021474   0.049692   \n",
      "011200.KS   0.030056   0.070323   0.051871   0.054897   0.019827   0.021107   \n",
      "012330.KS   0.054151   0.039438   0.087918   0.003606   0.027225   0.023984   \n",
      "175330.KS   0.069549   0.010338   0.118827   0.034105   0.056474   0.045190   \n",
      "051600.KS   0.044383   0.048321   0.074790   0.060448   0.072049   0.040812   \n",
      "002790.KS   0.028460   0.034318   0.075298   0.032119   0.025411   0.056816   \n",
      "005830.KS   0.110012   0.021182   0.106504   0.052894   0.037968   0.039573   \n",
      "103140.KS   0.021182   0.455985   0.078476   0.270665   0.060483   0.071516   \n",
      "402340.KS   0.106504   0.078476   0.325829   0.087669   0.067136   0.107105   \n",
      "064350.KS   0.052894   0.270665   0.087669   0.545203   0.039327   0.071868   \n",
      "064400.KS   0.037968   0.060483   0.067136   0.039327   0.181807   0.034626   \n",
      "241560.KS   0.039573   0.071516   0.107105   0.071868   0.034626   0.161862   \n",
      "214450.KQ   0.067943  -0.029404   0.086684   0.098815  -0.026076   0.046052   \n",
      "012750.KS   0.032052  -0.002620   0.064220  -0.003950   0.009816   0.015649   \n",
      "030000.KS   0.027016   0.019792   0.035921   0.039835   0.036848   0.020163   \n",
      "\n",
      "           214450.KQ  012750.KS  030000.KS  \n",
      "383220.KS   0.051114   0.009234   0.012883  \n",
      "011200.KS   0.046094   0.012274   0.011960  \n",
      "012330.KS   0.024229   0.033576   0.021232  \n",
      "175330.KS   0.052430   0.022743   0.037843  \n",
      "051600.KS   0.046524   0.037535   0.033339  \n",
      "002790.KS   0.059073   0.018976   0.012197  \n",
      "005830.KS   0.067943   0.032052   0.027016  \n",
      "103140.KS  -0.029404  -0.002620   0.019792  \n",
      "402340.KS   0.086684   0.064220   0.035921  \n",
      "064350.KS   0.098815  -0.003950   0.039835  \n",
      "064400.KS  -0.026076   0.009816   0.036848  \n",
      "241560.KS   0.046052   0.015649   0.020163  \n",
      "214450.KQ   0.364348   0.039357   0.003655  \n",
      "012750.KS   0.039357   0.061912   0.013290  \n",
      "030000.KS   0.003655   0.013290   0.030792  \n"
     ]
    }
   ],
   "source": [
    "cov_matrix = log_returns.cov() * 252\n",
    "print(cov_matrix)"
   ]
  },
  {
   "cell_type": "code",
   "execution_count": 9,
   "id": "faf7c672",
   "metadata": {},
   "outputs": [],
   "source": [
    "def standard_deviation (weights, cov_matrix):\n",
    "    variance = weights.T @ cov_matrix @ weights\n",
    "    return np.sqrt(variance)"
   ]
  },
  {
   "cell_type": "code",
   "execution_count": 10,
   "id": "ee0843b1",
   "metadata": {},
   "outputs": [],
   "source": [
    "def expected_return (weights, log_returns):\n",
    "    return np.sum(log_returns.mean() * weights)*252"
   ]
  },
  {
   "cell_type": "code",
   "execution_count": 11,
   "id": "77235e95",
   "metadata": {},
   "outputs": [],
   "source": [
    "def sharpe_ratio (weights, log_returns, cov_matrix, risk_free_rate):\n",
    "    return (expected_return (weights, log_returns) - risk_free_rate) / standard_deviation (weights, cov_matrix)"
   ]
  },
  {
   "cell_type": "code",
   "execution_count": 12,
   "id": "d3b50dd7",
   "metadata": {},
   "outputs": [
    {
     "name": "stderr",
     "output_type": "stream",
     "text": [
      "/tmp/ipykernel_16280/3437368303.py:6: FutureWarning: Series.__getitem__ treating keys as positions is deprecated. In a future version, integer keys will always be treated as labels (consistent with DataFrame behavior). To access a value by position, use `ser.iloc[pos]`\n",
      "  risk_free_rate = ten_year_treasury_rate[-1]\n"
     ]
    }
   ],
   "source": [
    "from fredapi import Fred\n",
    "#https://fredaccount.stlouisfed.org/apikey\n",
    "fred = Fred(api_key = '34e4735c415e19669e7094dbd83af34f')\n",
    "ten_year_treasury_rate = fred.get_series_latest_release('GS10') / 100\n",
    "\n",
    "risk_free_rate = ten_year_treasury_rate[-1]\n",
    "# print(risk_free_rate)"
   ]
  },
  {
   "cell_type": "code",
   "execution_count": 13,
   "id": "c451979b",
   "metadata": {},
   "outputs": [],
   "source": [
    "#핵심\n",
    "#OPTIMIZE the portfolio using different techniques here like\n",
    "# monte carlo simulation, mathematical optimization, etc\n",
    "# other alternatives include black-litterman model, min variance, \n",
    "# max diversification/risk pairty, \n",
    "\n",
    "def neg_sharpe_ratio(weights, log_returns, cov_matrix, risk_free_rate):\n",
    "    return -sharpe_ratio(weights, log_returns, cov_matrix, risk_free_rate) + (lambda_penalty * np.sum(weights**2))\n",
    "\n",
    "constraints = {'type': 'eq', 'fun': lambda weights: np.sum(weights) - 1}\n",
    "\n",
    "#say you wanna fix AVGO's weight to be exactly 0.25. if you want it to be at least 0.25, change 'eq' to 'ineq'\n",
    "# constraints = [{'type': 'eq', 'fun': lambda weights: np.sum(weights) - 1}, \n",
    "#               {'type': 'eq', 'fun': lambda weights: weights[tickers.index('379800.KS')] - 0.75}]\n",
    "bounds = [(LOWER_BOUND, UPPER_BOUND) for _ in range(len(tickers))]\n",
    "initial_weights = np.array([1/len(tickers)]*len(tickers))"
   ]
  },
  {
   "cell_type": "code",
   "execution_count": 14,
   "id": "60f4f11b",
   "metadata": {},
   "outputs": [],
   "source": [
    "optimized_results = minimize(neg_sharpe_ratio, initial_weights, args=(log_returns, cov_matrix, risk_free_rate), method='SLSQP', constraints=constraints, bounds=bounds)"
   ]
  },
  {
   "cell_type": "code",
   "execution_count": 15,
   "id": "875c5527",
   "metadata": {},
   "outputs": [],
   "source": [
    "optimal_weights = optimized_results.x #.x gets the results"
   ]
  },
  {
   "cell_type": "code",
   "execution_count": 16,
   "id": "7b2afc01",
   "metadata": {},
   "outputs": [],
   "source": [
    "# print(\"Optimal Weights:\")\n",
    "# for ticker, weight in zip(tickers, optimal_weights):\n",
    "#     print(f\"{ticker}: {weight:.4f}\")\n",
    "\n",
    "# optimal_portfolio_return = expected_return(optimal_weights, log_returns)\n",
    "# optimal_portfolio_volatility = standard_deviation(optimal_weights, cov_matrix)\n",
    "# optimal_sharpe_ratio = sharpe_ratio(optimal_weights, log_returns, cov_matrix, risk_free_rate)\n",
    "\n",
    "# print(f\"Expected Annual Return: {optimal_portfolio_return:.4f}\")\n",
    "# print(f\"Expected Volatility: {optimal_portfolio_volatility:.4f}\")\n",
    "# print(f\"Sharpe Ratio: {optimal_sharpe_ratio:.4f}\")"
   ]
  },
  {
   "cell_type": "code",
   "execution_count": 17,
   "id": "6775aa3e",
   "metadata": {},
   "outputs": [],
   "source": [
    "import matplotlib.pyplot as plt\n",
    "\n",
    "# plt.figure(figsize=(10, 6))\n",
    "# plt.bar(tickers, optimal_weights)\n",
    "\n",
    "# plt.xlabel('Assets')\n",
    "# plt.ylabel('Optimal Weights')\n",
    "# plt.title('Optimal Portfolio Weights')\n",
    "\n",
    "# plt.show()"
   ]
  },
  {
   "cell_type": "code",
   "execution_count": 18,
   "id": "b3b09f10",
   "metadata": {},
   "outputs": [],
   "source": [
    "# Initialize the components, to run a Monte Carlo Simulation.\n",
    "number_of_symbols = len(tickers)\n",
    "# We will run 5000 iterations.\n",
    "num_of_portfolios = NUM_OF_SIMULATIONS\n",
    "\n",
    "float_formatter = \"{:.2f}\".format\n",
    "\n",
    "# Prep an array to store the weights as they are generated, 5000 iterations for each of our 4 symbols.\n",
    "all_weights = np.zeros((num_of_portfolios, number_of_symbols))\n",
    "\n",
    "# Prep an array to store the returns as they are generated, 5000 possible return values.\n",
    "ret_arr = np.zeros(num_of_portfolios)\n",
    "\n",
    "# Prep an array to store the volatilities as they are generated, 5000 possible volatility values.\n",
    "vol_arr = np.zeros(num_of_portfolios)\n",
    "\n",
    "# Prep an array to store the sharpe ratios as they are generated, 5000 possible Sharpe Ratios.\n",
    "sharpe_arr = np.zeros(num_of_portfolios)\n",
    "\n",
    "# Start the simulations.\n",
    "for ind in range(num_of_portfolios):\n",
    "\n",
    "    # First, calculate the weights.\n",
    "    weights = np.array(np.random.random(number_of_symbols))\n",
    "    weights = weights / np.sum(weights)\n",
    "\n",
    "    # Add the weights, to the `weights_arrays`.\n",
    "    all_weights[ind, :] = weights\n",
    "\n",
    "    # Calculate the expected log returns, and add them to the `returns_array`.\n",
    "    ret_arr[ind] = np.sum((log_returns.mean() * weights) * 252)\n",
    "\n",
    "    # Calculate the volatility, and add them to the `volatility_array`.\n",
    "    vol_arr[ind] = np.sqrt(\n",
    "        np.dot(weights.T, np.dot(log_returns.cov() * 252, weights))\n",
    "    )\n",
    "\n",
    "    # Calculate the Sharpe Ratio and Add it to the `sharpe_ratio_array`.\n",
    "    sharpe_arr[ind] = ret_arr[ind]/vol_arr[ind]\n",
    "\n",
    "# Let's create our \"Master Data Frame\", with the weights, the returns, the volatility, and the Sharpe Ratio\n",
    "\n",
    "simulations_data = [ret_arr, vol_arr, sharpe_arr, np.round(all_weights, 4)]\n",
    "# Create a DataFrame from it, then Transpose it so it looks like our original one.\n",
    "simulations_df = pd.DataFrame(data=simulations_data).T\n",
    "\n",
    "data = {\n",
    "    'Portfolio Weights': [\n",
    "        np.random.rand(10).tolist() for _ in range(5000)\n",
    "    ]\n",
    "}\n",
    "df = pd.DataFrame(data)\n",
    "\n",
    "# Set Pandas to display all columns and rows\n",
    "pd.set_option('display.max_rows', None)  # To display all rows\n",
    "pd.set_option('display.max_columns', None)  # To display all columns\n",
    "pd.set_option('display.max_colwidth', None)  # To prevent truncation of column values\n",
    "\n",
    "# Give the columns the Proper Names.\n",
    "simulations_df.columns = [\n",
    "    'Returns',\n",
    "    'Volatility',\n",
    "    'Sharpe Ratio',\n",
    "    'Portfolio Weights'\n",
    "]\n",
    "\n",
    "# Make sure the data types are correct, we don't want our floats to be strings.\n",
    "simulations_df = simulations_df.infer_objects()\n",
    "\n",
    "# Print out the results.\n",
    "MAX_LINE = 100\n",
    "# print('')\n",
    "# print('='*MAX_LINE)\n",
    "# print('SIMULATIONS RESULT:')\n",
    "# print('-'*MAX_LINE)\n",
    "# with np.printoptions(threshold=sys.maxsize):\n",
    "#     print(simulations_df)\n",
    "# print('-'*MAX_LINE)"
   ]
  },
  {
   "cell_type": "code",
   "execution_count": 19,
   "id": "9c366700",
   "metadata": {},
   "outputs": [
    {
     "name": "stdout",
     "output_type": "stream",
     "text": [
      "\n",
      "====================================================================================================\n",
      "MAX SHARPE RATIO:\n",
      "----------------------------------------------------------------------------------------------------\n",
      "Returns                                                                                                                            1.367755\n",
      "Volatility                                                                                                                         0.266059\n",
      "Sharpe Ratio                                                                                                                       5.140794\n",
      "Portfolio Weights    [0.0386, 0.1011, 0.0171, 0.0045, 0.0162, 0.0376, 0.014, 0.1394, 0.0209, 0.1532, 0.1478, 0.0044, 0.1125, 0.1198, 0.073]\n",
      "Name: 427, dtype: object\n",
      "----------------------------------------------------------------------------------------------------\n",
      "\n",
      "====================================================================================================\n",
      "MIN VOLATILITY:\n",
      "----------------------------------------------------------------------------------------------------\n",
      "Returns                                                                                                                             0.721735\n",
      "Volatility                                                                                                                          0.193807\n",
      "Sharpe Ratio                                                                                                                        3.723989\n",
      "Portfolio Weights    [0.1402, 0.1289, 0.0161, 0.0248, 0.0146, 0.1351, 0.0358, 0.0044, 0.0072, 0.0368, 0.0544, 0.0859, 0.0566, 0.1212, 0.138]\n",
      "Name: 3242, dtype: object\n",
      "----------------------------------------------------------------------------------------------------\n"
     ]
    }
   ],
   "source": [
    "# Return the Max Sharpe Ratio from the run.\n",
    "max_sharpe_ratio = simulations_df.loc[simulations_df['Sharpe Ratio'].idxmax()]\n",
    "monte_carlo_max_sharpe_weights = max_sharpe_ratio.loc['Portfolio Weights']\n",
    "# Return the Min Volatility from the run.\n",
    "min_volatility = simulations_df.loc[simulations_df['Volatility'].idxmin()]\n",
    "monte_carlo_min_vol_weights = min_volatility.loc['Portfolio Weights']\n",
    "\n",
    "print('')\n",
    "print('='*MAX_LINE)\n",
    "print('MAX SHARPE RATIO:')\n",
    "print('-'*MAX_LINE)\n",
    "print(max_sharpe_ratio)\n",
    "print('-'*MAX_LINE)\n",
    "\n",
    "print('')\n",
    "print('='*MAX_LINE)\n",
    "print('MIN VOLATILITY:')\n",
    "print('-'*MAX_LINE)\n",
    "print(min_volatility)\n",
    "print('-'*MAX_LINE)"
   ]
  },
  {
   "cell_type": "markdown",
   "id": "1254e10e",
   "metadata": {},
   "source": [
    "Re-reun SLSQP Optimization with weights from Monte Carlo simulation as initial guess to land a global Sharpe Maximum and enhance results"
   ]
  },
  {
   "cell_type": "code",
   "execution_count": 20,
   "id": "446b9ace",
   "metadata": {},
   "outputs": [],
   "source": [
    "optimized_results_max_sharpe = minimize(neg_sharpe_ratio, monte_carlo_max_sharpe_weights, args=(log_returns, cov_matrix, risk_free_rate), method='SLSQP', constraints=constraints, bounds=bounds)\n",
    "optimized_results_min_vol = minimize(neg_sharpe_ratio, monte_carlo_min_vol_weights, args=(log_returns, cov_matrix, risk_free_rate), method='SLSQP', constraints=constraints, bounds=bounds)"
   ]
  },
  {
   "cell_type": "code",
   "execution_count": 23,
   "id": "204c46e9",
   "metadata": {},
   "outputs": [
    {
     "name": "stdout",
     "output_type": "stream",
     "text": [
      "Optimal Weights (최적화 가중치):\n",
      "원금: 2,600,000원. 백테스팅 기간: 3년\n",
      "383220.KS(('F&F Co., Ltd', 7.0)): 0.0340, 투자금액: 88,441원\n",
      "011200.KS(('HMM Co.,Ltd', 9.0)): 0.0251, 투자금액: 65,362원\n",
      "002790.KS(('AMOREPACIFIC Holdings Corp.', 7.3)): 0.0389, 투자금액: 101,269원\n",
      "103140.KS(('Poongsan Corporation', 9.0)): 0.0769, 투자금액: 199,845원\n",
      "402340.KS(('SK Square Co., Ltd.', 7.0)): 0.0205, 투자금액: 53,407원\n",
      "064350.KS(('Hyundai Rotem Company', 7.0)): 0.2263, 투자금액: 588,287원\n",
      "064400.KS(('LG CNS', 7.15)): 0.1102, 투자금액: 286,518원\n",
      "214450.KQ(('PharmaResearch Co., Ltd.', 7.0)): 0.1109, 투자금액: 288,289원\n",
      "012750.KS(('S-1 Corporation', 7.0)): 0.1941, 투자금액: 504,763원\n",
      "030000.KS(('Cheil Worldwide Inc.', 7.0)): 0.1630, 투자금액: 423,818원\n",
      "Expected Annual Return: 1.4461\n",
      "Expected Volatility: 0.2684\n",
      "Sharpe Ratio: 5.2222\n"
     ]
    }
   ],
   "source": [
    "optimal_weights = optimized_results_max_sharpe.x\n",
    "threshold = 10e-4\n",
    "\n",
    "# print(optimal_weights)\n",
    "# optimal_weights = optimized_results_min_vol.x\n",
    "\n",
    "print(\"Optimal Weights (최적화 가중치):\")\n",
    "print(\"원금: \" + f\"{SEED:,}\"+ \"원. 백테스팅 기간: \" + F\"{BACKTEST}\" + \"년\")\n",
    "for ticker, weight in zip(tickers, optimal_weights):\n",
    "    if weight >= threshold:\n",
    "        num = round(SEED * weight)\n",
    "        with shelve.open(\"../cache/ticker_cache\") as cache:\n",
    "            print(f\"{ticker}({cache[ticker]}): {weight:.4f}\" + \", 투자금액: \" +  str(f\"{num:,}\") + \"원\")\n",
    "\n",
    "optimal_portfolio_return = expected_return(optimal_weights, log_returns)\n",
    "optimal_portfolio_volatility = standard_deviation(optimal_weights, cov_matrix)\n",
    "optimal_sharpe_ratio = sharpe_ratio(optimal_weights, log_returns, cov_matrix, risk_free_rate)\n",
    "\n",
    "print(f\"Expected Annual Return: {optimal_portfolio_return:.4f}\")\n",
    "print(f\"Expected Volatility: {optimal_portfolio_volatility:.4f}\")\n",
    "print(f\"Sharpe Ratio: {optimal_sharpe_ratio:.4f}\")"
   ]
  },
  {
   "cell_type": "code",
   "execution_count": 24,
   "id": "2784f17d",
   "metadata": {},
   "outputs": [
    {
     "data": {
      "image/png": "[encoded data removed]",
      "text/plain": [
       "<Figure size 1000x600 with 1 Axes>"
      ]
     },
     "metadata": {},
     "output_type": "display_data"
    }
   ],
   "source": [
    "plt.figure(figsize=(10, 6))\n",
    "plt.bar(tickers, optimal_weights)\n",
    "\n",
    "plt.xlabel('Assets')\n",
    "plt.ylabel('Optimal Weights')\n",
    "plt.title('Optimal Portfolio Weights')\n",
    "\n",
    "plt.show()"
   ]
  }
 ],
 "metadata": {
  "kernelspec": {
   "display_name": "Python 3",
   "language": "python",
   "name": "python3"
  },
  "language_info": {
   "codemirror_mode": {
    "name": "ipython",
    "version": 3
   },
   "file_extension": ".py",
   "mimetype": "text/x-python",
   "name": "python",
   "nbconvert_exporter": "python",
   "pygments_lexer": "ipython3",
   "version": "3.12.10"
  }
 },
 "nbformat": 4,
 "nbformat_minor": 5
}
